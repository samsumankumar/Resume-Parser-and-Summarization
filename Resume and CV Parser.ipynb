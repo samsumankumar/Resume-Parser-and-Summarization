{
 "cells": [
  {
   "cell_type": "code",
   "execution_count": 2,
   "metadata": {},
   "outputs": [],
   "source": [
    "# pip install spacy\n",
    "# !pip install PyMuPDF\n",
    "import spacy\n",
    "import pickle\n",
    "import random\n",
    "import warnings\n",
    "from spacy.training import Example"
   ]
  },
  {
   "cell_type": "markdown",
   "metadata": {},
   "source": [
    "## Load the Data"
   ]
  },
  {
   "cell_type": "code",
   "execution_count": 5,
   "metadata": {
    "scrolled": true
   },
   "outputs": [
    {
     "data": {
      "text/plain": [
       "('Govardhana K Senior Software Engineer  Bengaluru, Karnataka, Karnataka - Email me on Indeed: indeed.com/r/Govardhana-K/ b2de315d95905b68  Total IT experience 5 Years 6 Months Cloud Lending Solutions INC 4 Month • Salesforce Developer Oracle 5 Years 2 Month • Core Java Developer Languages Core Java, Go Lang Oracle PL-SQL programming, Sales Force Developer with APEX.  Designations & Promotions  Willing to relocate: Anywhere  WORK EXPERIENCE  Senior Software Engineer  Cloud Lending Solutions -  Bangalore, Karnataka -  January 2018 to Present  Present  Senior Consultant  Oracle -  Bangalore, Karnataka -  November 2016 to December 2017  Staff Consultant  Oracle -  Bangalore, Karnataka -  January 2014 to October 2016  Associate Consultant  Oracle -  Bangalore, Karnataka -  November 2012 to December 2013  EDUCATION  B.E in Computer Science Engineering  Adithya Institute of Technology -  Tamil Nadu  September 2008 to June 2012  https://www.indeed.com/r/Govardhana-K/b2de315d95905b68?isid=rex-download&ikw=download-top&co=IN https://www.indeed.com/r/Govardhana-K/b2de315d95905b68?isid=rex-download&ikw=download-top&co=IN   SKILLS  APEX. (Less than 1 year), Data Structures (3 years), FLEXCUBE (5 years), Oracle (5 years), Algorithms (3 years)  LINKS  https://www.linkedin.com/in/govardhana-k-61024944/  ADDITIONAL INFORMATION  Technical Proficiency:  Languages: Core Java, Go Lang, Data Structures & Algorithms, Oracle PL-SQL programming, Sales Force with APEX. Tools: RADTool, Jdeveloper, NetBeans, Eclipse, SQL developer, PL/SQL Developer, WinSCP, Putty Web Technologies: JavaScript, XML, HTML, Webservice  Operating Systems: Linux, Windows Version control system SVN & Git-Hub Databases: Oracle Middleware: Web logic, OC4J Product FLEXCUBE: Oracle FLEXCUBE Versions 10.x, 11.x and 12.x  https://www.linkedin.com/in/govardhana-k-61024944/',\n",
       " {'entities': [(1749, 1755, 'Companies worked at'),\n",
       "   (1696, 1702, 'Companies worked at'),\n",
       "   (1417, 1423, 'Companies worked at'),\n",
       "   (1356, 1793, 'Skills'),\n",
       "   (1209, 1215, 'Companies worked at'),\n",
       "   (1136, 1248, 'Skills'),\n",
       "   (928, 932, 'Graduation Year'),\n",
       "   (858, 889, 'College Name'),\n",
       "   (821, 856, 'Degree'),\n",
       "   (787, 791, 'Graduation Year'),\n",
       "   (744, 750, 'Companies worked at'),\n",
       "   (722, 742, 'Designation'),\n",
       "   (658, 664, 'Companies worked at'),\n",
       "   (640, 656, 'Designation'),\n",
       "   (574, 580, 'Companies worked at'),\n",
       "   (555, 573, 'Designation'),\n",
       "   (470, 493, 'Companies worked at'),\n",
       "   (444, 469, 'Designation'),\n",
       "   (308, 314, 'Companies worked at'),\n",
       "   (234, 240, 'Companies worked at'),\n",
       "   (175, 198, 'Companies worked at'),\n",
       "   (93, 137, 'Email Address'),\n",
       "   (39, 48, 'Location'),\n",
       "   (13, 38, 'Designation'),\n",
       "   (0, 12, 'Name')]})"
      ]
     },
     "execution_count": 5,
     "metadata": {},
     "output_type": "execute_result"
    }
   ],
   "source": [
    "train_data = pickle.load(open('train_data.pkl', 'rb'))\n",
    "train_data[0]"
   ]
  },
  {
   "cell_type": "markdown",
   "metadata": {},
   "source": [
    "### Defined the training function"
   ]
  },
  {
   "cell_type": "code",
   "execution_count": 3,
   "metadata": {},
   "outputs": [],
   "source": [
    "nlp = spacy.blank('en')\n",
    "\n",
    "def train_model(train_data):\n",
    "    if 'ner' not in nlp.pipe_names:\n",
    "        ner = nlp.create_pipe('ner')\n",
    "        nlp.add_pipe('ner', last=True)\n",
    "\n",
    "    for _, annotation in train_data:\n",
    "        for ent in annotation['entities']:\n",
    "            ner.add_label(ent[2])\n",
    "            \n",
    "    other_pipes = [pipe for pipe in nlp.pipe_names if pipe != 'ner']\n",
    "    with nlp.disable_pipes(*other_pipes), warnings.catch_warnings():\n",
    "        warnings.filterwarnings(\"once\", category=UserWarning, module='spacy') \n",
    "        optimizer = nlp.begin_training()\n",
    "        for i in range(25):\n",
    "            print(\"Starting iteration \" + str(i))\n",
    "            random.shuffle(train_data)\n",
    "            losses = {}\n",
    "            for batch in spacy.util.minibatch(train_data, size=2):\n",
    "                for text, annotations in batch:\n",
    "                    try:\n",
    "                        doc = nlp.make_doc(text)\n",
    "                        example = Example.from_dict(doc, annotations)\n",
    "                        # Update the model\n",
    "                        nlp.update([example], drop=0.2, sgd=optimizer, losses=losses)\n",
    "                    except Exception as e:\n",
    "                        pass\n",
    "            print(losses)"
   ]
  },
  {
   "cell_type": "code",
   "execution_count": 4,
   "metadata": {
    "scrolled": true
   },
   "outputs": [
    {
     "name": "stdout",
     "output_type": "stream",
     "text": [
      "Starting iteration 0\n"
     ]
    },
    {
     "name": "stderr",
     "output_type": "stream",
     "text": [
      "C:\\Users\\samsu\\anaconda3\\lib\\site-packages\\spacy\\training\\iob_utils.py:142: UserWarning: [W030] Some entities could not be aligned in the text \"Vikas Singh Chandigarh, Chandigarh - Email me on I...\" with entities \"[(5347, 5750, 'Skills'), (5333, 5337, 'Graduation ...\". Use `spacy.training.offsets_to_biluo_tags(nlp.make_doc(text), entities)` to check the alignment. Misaligned entities ('-') will be ignored during training.\n",
      "  entities=ent_str[:50] + \"...\" if len(ent_str) > 50 else ent_str,\n",
      "C:\\Users\\samsu\\anaconda3\\lib\\site-packages\\spacy\\training\\iob_utils.py:142: UserWarning: [W030] Some entities could not be aligned in the text \"Jaspreet Kaur Oceanic Consultants as a HR Executiv...\" with entities \"[(5670, 5781, 'Skills'), (462, 481, 'Designation')...\". Use `spacy.training.offsets_to_biluo_tags(nlp.make_doc(text), entities)` to check the alignment. Misaligned entities ('-') will be ignored during training.\n",
      "  entities=ent_str[:50] + \"...\" if len(ent_str) > 50 else ent_str,\n",
      "C:\\Users\\samsu\\anaconda3\\lib\\site-packages\\spacy\\training\\iob_utils.py:142: UserWarning: [W030] Some entities could not be aligned in the text \"Akash Gulhane Microsoft Certified System Engineer ...\" with entities \"[(913, 921, 'Location'), (888, 909, 'College Name'...\". Use `spacy.training.offsets_to_biluo_tags(nlp.make_doc(text), entities)` to check the alignment. Misaligned entities ('-') will be ignored during training.\n",
      "  entities=ent_str[:50] + \"...\" if len(ent_str) > 50 else ent_str,\n",
      "C:\\Users\\samsu\\anaconda3\\lib\\site-packages\\spacy\\training\\iob_utils.py:142: UserWarning: [W030] Some entities could not be aligned in the text \"Tapan kumar Nayak Bhubaneshwar, Orissa - Email me ...\" with entities \"[(168, 181, 'Location'), (152, 159, 'Companies wor...\". Use `spacy.training.offsets_to_biluo_tags(nlp.make_doc(text), entities)` to check the alignment. Misaligned entities ('-') will be ignored during training.\n",
      "  entities=ent_str[:50] + \"...\" if len(ent_str) > 50 else ent_str,\n",
      "C:\\Users\\samsu\\anaconda3\\lib\\site-packages\\spacy\\training\\iob_utils.py:142: UserWarning: [W030] Some entities could not be aligned in the text \"Prakriti Shaurya Senior System Engineer - Infosys ...\" with entities \"[(1368, 1560, 'Skills'), (1096, 1133, 'Skills'), (...\". Use `spacy.training.offsets_to_biluo_tags(nlp.make_doc(text), entities)` to check the alignment. Misaligned entities ('-') will be ignored during training.\n",
      "  entities=ent_str[:50] + \"...\" if len(ent_str) > 50 else ent_str,\n",
      "C:\\Users\\samsu\\anaconda3\\lib\\site-packages\\spacy\\training\\iob_utils.py:142: UserWarning: [W030] Some entities could not be aligned in the text \"Yogi Pesaru Developer - Infosys Limited  Hyderabad...\" with entities \"[(3748, 3809, 'Skills'), (3679, 3745, 'Skills'), (...\". Use `spacy.training.offsets_to_biluo_tags(nlp.make_doc(text), entities)` to check the alignment. Misaligned entities ('-') will be ignored during training.\n",
      "  entities=ent_str[:50] + \"...\" if len(ent_str) > 50 else ent_str,\n",
      "C:\\Users\\samsu\\anaconda3\\lib\\site-packages\\spacy\\training\\iob_utils.py:142: UserWarning: [W030] Some entities could not be aligned in the text \"Mohini Gupta Server Support Engineer  Gurgaon, Har...\" with entities \"[(2326, 2333, 'Location'), (1821, 2095, 'Skills'),...\". Use `spacy.training.offsets_to_biluo_tags(nlp.make_doc(text), entities)` to check the alignment. Misaligned entities ('-') will be ignored during training.\n",
      "  entities=ent_str[:50] + \"...\" if len(ent_str) > 50 else ent_str,\n",
      "C:\\Users\\samsu\\anaconda3\\lib\\site-packages\\spacy\\training\\iob_utils.py:142: UserWarning: [W030] Some entities could not be aligned in the text \"Palani S Senior Technology Support Executive at In...\" with entities \"[(3660, 3664, 'Graduation Year'), (3598, 3602, 'Gr...\". Use `spacy.training.offsets_to_biluo_tags(nlp.make_doc(text), entities)` to check the alignment. Misaligned entities ('-') will be ignored during training.\n",
      "  entities=ent_str[:50] + \"...\" if len(ent_str) > 50 else ent_str,\n",
      "C:\\Users\\samsu\\anaconda3\\lib\\site-packages\\spacy\\training\\iob_utils.py:142: UserWarning: [W030] Some entities could not be aligned in the text \"Venkateswara D specialist - Technology Process  IN...\" with entities \"[(7858, 7886, 'College Name'), (7853, 7856, 'Degre...\". Use `spacy.training.offsets_to_biluo_tags(nlp.make_doc(text), entities)` to check the alignment. Misaligned entities ('-') will be ignored during training.\n",
      "  entities=ent_str[:50] + \"...\" if len(ent_str) > 50 else ent_str,\n",
      "C:\\Users\\samsu\\anaconda3\\lib\\site-packages\\spacy\\training\\iob_utils.py:142: UserWarning: [W030] Some entities could not be aligned in the text \"Madhava Konjeti HR Executive  Bengaluru, Karnataka...\" with entities \"[(1818, 1893, 'Skills'), (1760, 1766, 'Graduation ...\". Use `spacy.training.offsets_to_biluo_tags(nlp.make_doc(text), entities)` to check the alignment. Misaligned entities ('-') will be ignored during training.\n",
      "  entities=ent_str[:50] + \"...\" if len(ent_str) > 50 else ent_str,\n",
      "C:\\Users\\samsu\\anaconda3\\lib\\site-packages\\spacy\\training\\iob_utils.py:142: UserWarning: [W030] Some entities could not be aligned in the text \"Anurag Asthana Pune, Maharashtra - Email me on Ind...\" with entities \"[(7675, 7692, 'Years of Experience'), (7133, 7595,...\". Use `spacy.training.offsets_to_biluo_tags(nlp.make_doc(text), entities)` to check the alignment. Misaligned entities ('-') will be ignored during training.\n",
      "  entities=ent_str[:50] + \"...\" if len(ent_str) > 50 else ent_str,\n",
      "C:\\Users\\samsu\\anaconda3\\lib\\site-packages\\spacy\\training\\iob_utils.py:142: UserWarning: [W030] Some entities could not be aligned in the text \"Hemil Bhavsar Jr. ASP.NET Developer in True Vision...\" with entities \"[(1085, 1500, 'Skills'), (848, 961, 'Skills'), (83...\". Use `spacy.training.offsets_to_biluo_tags(nlp.make_doc(text), entities)` to check the alignment. Misaligned entities ('-') will be ignored during training.\n",
      "  entities=ent_str[:50] + \"...\" if len(ent_str) > 50 else ent_str,\n",
      "C:\\Users\\samsu\\anaconda3\\lib\\site-packages\\spacy\\training\\iob_utils.py:142: UserWarning: [W030] Some entities could not be aligned in the text \"Rupesh Reddy Technology Consultant - EIT Services ...\" with entities \"[(6732, 6848, 'Skills'), (6703, 6707, 'Graduation ...\". Use `spacy.training.offsets_to_biluo_tags(nlp.make_doc(text), entities)` to check the alignment. Misaligned entities ('-') will be ignored during training.\n",
      "  entities=ent_str[:50] + \"...\" if len(ent_str) > 50 else ent_str,\n",
      "C:\\Users\\samsu\\anaconda3\\lib\\site-packages\\spacy\\training\\iob_utils.py:142: UserWarning: [W030] Some entities could not be aligned in the text \"Suresh Kanagala Architecture SharePoint/Office 365...\" with entities \"[(1171, 1574, 'Skills'), (962, 1096, 'Skills'), (9...\". Use `spacy.training.offsets_to_biluo_tags(nlp.make_doc(text), entities)` to check the alignment. Misaligned entities ('-') will be ignored during training.\n",
      "  entities=ent_str[:50] + \"...\" if len(ent_str) > 50 else ent_str,\n",
      "C:\\Users\\samsu\\anaconda3\\lib\\site-packages\\spacy\\training\\iob_utils.py:142: UserWarning: [W030] Some entities could not be aligned in the text \"Jay Madhavi Navi Mumbai, Maharashtra - Email me on...\" with entities \"[(1520, 1524, 'Graduation Year'), (1507, 1518, 'De...\". Use `spacy.training.offsets_to_biluo_tags(nlp.make_doc(text), entities)` to check the alignment. Misaligned entities ('-') will be ignored during training.\n",
      "  entities=ent_str[:50] + \"...\" if len(ent_str) > 50 else ent_str,\n",
      "C:\\Users\\samsu\\anaconda3\\lib\\site-packages\\spacy\\training\\iob_utils.py:142: UserWarning: [W030] Some entities could not be aligned in the text \"Tejasri Gunnam Bengaluru, Karnataka - Email me on ...\" with entities \"[(3517, 3878, 'Skills'), (3387, 3481, 'Skills'), (...\". Use `spacy.training.offsets_to_biluo_tags(nlp.make_doc(text), entities)` to check the alignment. Misaligned entities ('-') will be ignored during training.\n",
      "  entities=ent_str[:50] + \"...\" if len(ent_str) > 50 else ent_str,\n",
      "C:\\Users\\samsu\\anaconda3\\lib\\site-packages\\spacy\\training\\iob_utils.py:142: UserWarning: [W030] Some entities could not be aligned in the text \"Puran Mal Jaipur, Rajasthan - Email me on Indeed: ...\" with entities \"[(193, 511, 'Skills'), (174, 183, 'Degree'), (126,...\". Use `spacy.training.offsets_to_biluo_tags(nlp.make_doc(text), entities)` to check the alignment. Misaligned entities ('-') will be ignored during training.\n",
      "  entities=ent_str[:50] + \"...\" if len(ent_str) > 50 else ent_str,\n",
      "C:\\Users\\samsu\\anaconda3\\lib\\site-packages\\spacy\\training\\iob_utils.py:142: UserWarning: [W030] Some entities could not be aligned in the text \"Ravi Shankar Working as Escalation Engineer with M...\" with entities \"[(4016, 4025, 'Companies worked at'), (3941, 3950,...\". Use `spacy.training.offsets_to_biluo_tags(nlp.make_doc(text), entities)` to check the alignment. Misaligned entities ('-') will be ignored during training.\n",
      "  entities=ent_str[:50] + \"...\" if len(ent_str) > 50 else ent_str,\n"
     ]
    },
    {
     "name": "stderr",
     "output_type": "stream",
     "text": [
      "C:\\Users\\samsu\\anaconda3\\lib\\site-packages\\spacy\\training\\iob_utils.py:142: UserWarning: [W030] Some entities could not be aligned in the text \"Madas Peddaiah Anantapur, Andhra Pradesh - Email m...\" with entities \"[(2934, 2938, 'Graduation Year'), (2917, 2921, 'Gr...\". Use `spacy.training.offsets_to_biluo_tags(nlp.make_doc(text), entities)` to check the alignment. Misaligned entities ('-') will be ignored during training.\n",
      "  entities=ent_str[:50] + \"...\" if len(ent_str) > 50 else ent_str,\n",
      "C:\\Users\\samsu\\anaconda3\\lib\\site-packages\\spacy\\training\\iob_utils.py:142: UserWarning: [W030] Some entities could not be aligned in the text \"Ramesh chokkala Telangana - Email me on Indeed: in...\" with entities \"[(250, 278, 'College Name'), (243, 248, 'Degree'),...\". Use `spacy.training.offsets_to_biluo_tags(nlp.make_doc(text), entities)` to check the alignment. Misaligned entities ('-') will be ignored during training.\n",
      "  entities=ent_str[:50] + \"...\" if len(ent_str) > 50 else ent_str,\n",
      "C:\\Users\\samsu\\anaconda3\\lib\\site-packages\\spacy\\training\\iob_utils.py:142: UserWarning: [W030] Some entities could not be aligned in the text \"Soumya Balan IT SUPPORT  Sulthan Bathery, Kerala, ...\" with entities \"[(3913, 4370, 'Skills'), (3880, 3884, 'Graduation ...\". Use `spacy.training.offsets_to_biluo_tags(nlp.make_doc(text), entities)` to check the alignment. Misaligned entities ('-') will be ignored during training.\n",
      "  entities=ent_str[:50] + \"...\" if len(ent_str) > 50 else ent_str,\n",
      "C:\\Users\\samsu\\anaconda3\\lib\\site-packages\\spacy\\training\\iob_utils.py:142: UserWarning: [W030] Some entities could not be aligned in the text \"Angad Waghmare Pune, Maharashtra - Email me on Ind...\" with entities \"[(3878, 3937, 'Degree'), (3110, 3846, 'Skills'), (...\". Use `spacy.training.offsets_to_biluo_tags(nlp.make_doc(text), entities)` to check the alignment. Misaligned entities ('-') will be ignored during training.\n",
      "  entities=ent_str[:50] + \"...\" if len(ent_str) > 50 else ent_str,\n",
      "C:\\Users\\samsu\\anaconda3\\lib\\site-packages\\spacy\\training\\iob_utils.py:142: UserWarning: [W030] Some entities could not be aligned in the text \"Pradeep Kumar Security Analyst in Infosys - Career...\" with entities \"[(587, 669, 'Skills'), (512, 554, 'College Name'),...\". Use `spacy.training.offsets_to_biluo_tags(nlp.make_doc(text), entities)` to check the alignment. Misaligned entities ('-') will be ignored during training.\n",
      "  entities=ent_str[:50] + \"...\" if len(ent_str) > 50 else ent_str,\n",
      "C:\\Users\\samsu\\anaconda3\\lib\\site-packages\\spacy\\training\\iob_utils.py:142: UserWarning: [W030] Some entities could not be aligned in the text \"Jatin Arora SDET Automation Engineer, Infosys - CR...\" with entities \"[(3909, 3931, 'College Name'), (3883, 3908, 'Degre...\". Use `spacy.training.offsets_to_biluo_tags(nlp.make_doc(text), entities)` to check the alignment. Misaligned entities ('-') will be ignored during training.\n",
      "  entities=ent_str[:50] + \"...\" if len(ent_str) > 50 else ent_str,\n",
      "C:\\Users\\samsu\\anaconda3\\lib\\site-packages\\spacy\\training\\iob_utils.py:142: UserWarning: [W030] Some entities could not be aligned in the text \"Sayani Goswami I Phone solution Consultant  Kolkat...\" with entities \"[(314, 333, 'College Name'), (261, 271, 'Companies...\". Use `spacy.training.offsets_to_biluo_tags(nlp.make_doc(text), entities)` to check the alignment. Misaligned entities ('-') will be ignored during training.\n",
      "  entities=ent_str[:50] + \"...\" if len(ent_str) > 50 else ent_str,\n",
      "C:\\Users\\samsu\\anaconda3\\lib\\site-packages\\spacy\\training\\iob_utils.py:142: UserWarning: [W030] Some entities could not be aligned in the text \"Kowsick Somasundaram Certified Network Associate T...\" with entities \"[(696, 1129, 'Skills'), (625, 661, 'College Name')...\". Use `spacy.training.offsets_to_biluo_tags(nlp.make_doc(text), entities)` to check the alignment. Misaligned entities ('-') will be ignored during training.\n",
      "  entities=ent_str[:50] + \"...\" if len(ent_str) > 50 else ent_str,\n",
      "C:\\Users\\samsu\\anaconda3\\lib\\site-packages\\spacy\\training\\iob_utils.py:142: UserWarning: [W030] Some entities could not be aligned in the text \"Pawan Nag Microsoft Certified System Engineer  Del...\" with entities \"[(523, 562, 'Email Address'), (500, 509, 'Name'), ...\". Use `spacy.training.offsets_to_biluo_tags(nlp.make_doc(text), entities)` to check the alignment. Misaligned entities ('-') will be ignored during training.\n",
      "  entities=ent_str[:50] + \"...\" if len(ent_str) > 50 else ent_str,\n",
      "C:\\Users\\samsu\\anaconda3\\lib\\site-packages\\spacy\\training\\iob_utils.py:142: UserWarning: [W030] Some entities could not be aligned in the text \"Kiran Kumar I Having 2.1 years of Experience in IT...\" with entities \"[(1403, 1487, 'Skills'), (1351, 1393, 'College Nam...\". Use `spacy.training.offsets_to_biluo_tags(nlp.make_doc(text), entities)` to check the alignment. Misaligned entities ('-') will be ignored during training.\n",
      "  entities=ent_str[:50] + \"...\" if len(ent_str) > 50 else ent_str,\n",
      "C:\\Users\\samsu\\anaconda3\\lib\\site-packages\\spacy\\training\\iob_utils.py:142: UserWarning: [W030] Some entities could not be aligned in the text \"Kartik Sharma Systems Engineer - Infosys Ltd  Delh...\" with entities \"[(3086, 3255, 'Skills'), (3046, 3058, 'Skills'), (...\". Use `spacy.training.offsets_to_biluo_tags(nlp.make_doc(text), entities)` to check the alignment. Misaligned entities ('-') will be ignored during training.\n",
      "  entities=ent_str[:50] + \"...\" if len(ent_str) > 50 else ent_str,\n",
      "C:\\Users\\samsu\\anaconda3\\lib\\site-packages\\spacy\\training\\iob_utils.py:142: UserWarning: [W030] Some entities could not be aligned in the text \"Imgeeyaul Ansari java developer  Pune, Maharashtra...\" with entities \"[(1894, 2173, 'Skills'), (1726, 1851, 'Skills'), (...\". Use `spacy.training.offsets_to_biluo_tags(nlp.make_doc(text), entities)` to check the alignment. Misaligned entities ('-') will be ignored during training.\n",
      "  entities=ent_str[:50] + \"...\" if len(ent_str) > 50 else ent_str,\n",
      "C:\\Users\\samsu\\anaconda3\\lib\\site-packages\\spacy\\training\\iob_utils.py:142: UserWarning: [W030] Some entities could not be aligned in the text \"Prabhu Prasad Mohapatra Need job urgently  Bhubane...\" with entities \"[(310, 332, 'Skills'), (265, 292, 'College Name'),...\". Use `spacy.training.offsets_to_biluo_tags(nlp.make_doc(text), entities)` to check the alignment. Misaligned entities ('-') will be ignored during training.\n",
      "  entities=ent_str[:50] + \"...\" if len(ent_str) > 50 else ent_str,\n",
      "C:\\Users\\samsu\\anaconda3\\lib\\site-packages\\spacy\\training\\iob_utils.py:142: UserWarning: [W030] Some entities could not be aligned in the text \"Pulkit Saxena New Delhi, Delhi - Email me on Indee...\" with entities \"[(3673, 4270, 'Skills'), (3497, 3502, 'Companies w...\". Use `spacy.training.offsets_to_biluo_tags(nlp.make_doc(text), entities)` to check the alignment. Misaligned entities ('-') will be ignored during training.\n",
      "  entities=ent_str[:50] + \"...\" if len(ent_str) > 50 else ent_str,\n",
      "C:\\Users\\samsu\\anaconda3\\lib\\site-packages\\spacy\\training\\iob_utils.py:142: UserWarning: [W030] Some entities could not be aligned in the text \"Ramakrishna Rao DevOps Consultant - Tech Mahindra ...\" with entities \"[(5995, 6012, 'Companies worked at'), (5913, 5930,...\". Use `spacy.training.offsets_to_biluo_tags(nlp.make_doc(text), entities)` to check the alignment. Misaligned entities ('-') will be ignored during training.\n",
      "  entities=ent_str[:50] + \"...\" if len(ent_str) > 50 else ent_str,\n",
      "C:\\Users\\samsu\\anaconda3\\lib\\site-packages\\spacy\\training\\iob_utils.py:142: UserWarning: [W030] Some entities could not be aligned in the text \"Laya A Cluster HR Manager - Velammal New  Chennai,...\" with entities \"[(3758, 4638, 'Skills'), (3725, 3742, 'College Nam...\". Use `spacy.training.offsets_to_biluo_tags(nlp.make_doc(text), entities)` to check the alignment. Misaligned entities ('-') will be ignored during training.\n",
      "  entities=ent_str[:50] + \"...\" if len(ent_str) > 50 else ent_str,\n",
      "C:\\Users\\samsu\\anaconda3\\lib\\site-packages\\spacy\\training\\iob_utils.py:142: UserWarning: [W030] Some entities could not be aligned in the text \"Harini Komaravelli Test Analyst at Oracle, Hyderab...\" with entities \"[(2275, 2281, 'Companies worked at'), (2235, 2241,...\". Use `spacy.training.offsets_to_biluo_tags(nlp.make_doc(text), entities)` to check the alignment. Misaligned entities ('-') will be ignored during training.\n",
      "  entities=ent_str[:50] + \"...\" if len(ent_str) > 50 else ent_str,\n"
     ]
    },
    {
     "name": "stderr",
     "output_type": "stream",
     "text": [
      "C:\\Users\\samsu\\anaconda3\\lib\\site-packages\\spacy\\training\\iob_utils.py:142: UserWarning: [W030] Some entities could not be aligned in the text \"Sohan Dhakad Shivpuri, Madhya Pradesh - Email me o...\" with entities \"[(870, 894, 'Skills'), (793, 810, 'College Name'),...\". Use `spacy.training.offsets_to_biluo_tags(nlp.make_doc(text), entities)` to check the alignment. Misaligned entities ('-') will be ignored during training.\n",
      "  entities=ent_str[:50] + \"...\" if len(ent_str) > 50 else ent_str,\n",
      "C:\\Users\\samsu\\anaconda3\\lib\\site-packages\\spacy\\training\\iob_utils.py:142: UserWarning: [W030] Some entities could not be aligned in the text \"Nitin Tr PeopleSoft Consultant  Bangalore Urban, K...\" with entities \"[(3511, 3749, 'Skills'), (3313, 3364, 'Skills'), (...\". Use `spacy.training.offsets_to_biluo_tags(nlp.make_doc(text), entities)` to check the alignment. Misaligned entities ('-') will be ignored during training.\n",
      "  entities=ent_str[:50] + \"...\" if len(ent_str) > 50 else ent_str,\n",
      "C:\\Users\\samsu\\anaconda3\\lib\\site-packages\\spacy\\training\\iob_utils.py:142: UserWarning: [W030] Some entities could not be aligned in the text \"Shivam Rathi Microsoft technology Associate (MTA) ...\" with entities \"[(1379, 1406, 'College Name'), (1371, 1378, 'Degre...\". Use `spacy.training.offsets_to_biluo_tags(nlp.make_doc(text), entities)` to check the alignment. Misaligned entities ('-') will be ignored during training.\n",
      "  entities=ent_str[:50] + \"...\" if len(ent_str) > 50 else ent_str,\n",
      "C:\\Users\\samsu\\anaconda3\\lib\\site-packages\\spacy\\training\\iob_utils.py:142: UserWarning: [W030] Some entities could not be aligned in the text \"Khushboo Choudhary Developer  Noida, Uttar Pradesh...\" with entities \"[(1466, 1549, 'Skills'), (1363, 1421, 'College Nam...\". Use `spacy.training.offsets_to_biluo_tags(nlp.make_doc(text), entities)` to check the alignment. Misaligned entities ('-') will be ignored during training.\n",
      "  entities=ent_str[:50] + \"...\" if len(ent_str) > 50 else ent_str,\n",
      "C:\\Users\\samsu\\anaconda3\\lib\\site-packages\\spacy\\training\\iob_utils.py:142: UserWarning: [W030] Some entities could not be aligned in the text \"Rahul Bollu Software Engineer - Disney  Hyderabad,...\" with entities \"[(4093, 4190, 'Skills'), (3940, 4089, 'Skills'), (...\". Use `spacy.training.offsets_to_biluo_tags(nlp.make_doc(text), entities)` to check the alignment. Misaligned entities ('-') will be ignored during training.\n",
      "  entities=ent_str[:50] + \"...\" if len(ent_str) > 50 else ent_str,\n",
      "C:\\Users\\samsu\\anaconda3\\lib\\site-packages\\spacy\\training\\iob_utils.py:142: UserWarning: [W030] Some entities could not be aligned in the text \"Mayank Shukla Infosys group as a Test Analyst - In...\" with entities \"[(2348, 3131, 'Skills'), (2324, 2328, 'Graduation ...\". Use `spacy.training.offsets_to_biluo_tags(nlp.make_doc(text), entities)` to check the alignment. Misaligned entities ('-') will be ignored during training.\n",
      "  entities=ent_str[:50] + \"...\" if len(ent_str) > 50 else ent_str,\n",
      "C:\\Users\\samsu\\anaconda3\\lib\\site-packages\\spacy\\training\\iob_utils.py:142: UserWarning: [W030] Some entities could not be aligned in the text \"Mohamed Ameen System engineer  Bengaluru, Karnatak...\" with entities \"[(1632, 1636, 'Graduation Year'), (931, 1013, 'Ski...\". Use `spacy.training.offsets_to_biluo_tags(nlp.make_doc(text), entities)` to check the alignment. Misaligned entities ('-') will be ignored during training.\n",
      "  entities=ent_str[:50] + \"...\" if len(ent_str) > 50 else ent_str,\n",
      "C:\\Users\\samsu\\anaconda3\\lib\\site-packages\\spacy\\training\\iob_utils.py:142: UserWarning: [W030] Some entities could not be aligned in the text \"Karthik Gururaj Technical Lead at Infosys Ltd. - P...\" with entities \"[(2814, 2839, 'Degree'), (2773, 2813, 'Degree'), (...\". Use `spacy.training.offsets_to_biluo_tags(nlp.make_doc(text), entities)` to check the alignment. Misaligned entities ('-') will be ignored during training.\n",
      "  entities=ent_str[:50] + \"...\" if len(ent_str) > 50 else ent_str,\n",
      "C:\\Users\\samsu\\anaconda3\\lib\\site-packages\\spacy\\training\\iob_utils.py:142: UserWarning: [W030] Some entities could not be aligned in the text \"Ramya. P Hyderabad, Telangana - Email me on Indeed...\" with entities \"[(4542, 4549, 'Skills'), (4178, 4187, 'Skills'), (...\". Use `spacy.training.offsets_to_biluo_tags(nlp.make_doc(text), entities)` to check the alignment. Misaligned entities ('-') will be ignored during training.\n",
      "  entities=ent_str[:50] + \"...\" if len(ent_str) > 50 else ent_str,\n",
      "C:\\Users\\samsu\\anaconda3\\lib\\site-packages\\spacy\\training\\iob_utils.py:142: UserWarning: [W030] Some entities could not be aligned in the text \"Pranay Sathu Software Test Automation Engineer  Hy...\" with entities \"[(2051, 2567, 'Skills'), (1914, 1943, 'College Nam...\". Use `spacy.training.offsets_to_biluo_tags(nlp.make_doc(text), entities)` to check the alignment. Misaligned entities ('-') will be ignored during training.\n",
      "  entities=ent_str[:50] + \"...\" if len(ent_str) > 50 else ent_str,\n",
      "C:\\Users\\samsu\\anaconda3\\lib\\site-packages\\spacy\\training\\iob_utils.py:142: UserWarning: [W030] Some entities could not be aligned in the text \"amarjyot sodhi Voice and Accent Trainer :Masters i...\" with entities \"[(1130, 1174, 'Email Address'), (1112, 1116, 'Grad...\". Use `spacy.training.offsets_to_biluo_tags(nlp.make_doc(text), entities)` to check the alignment. Misaligned entities ('-') will be ignored during training.\n",
      "  entities=ent_str[:50] + \"...\" if len(ent_str) > 50 else ent_str,\n",
      "C:\\Users\\samsu\\anaconda3\\lib\\site-packages\\spacy\\training\\iob_utils.py:142: UserWarning: [W030] Some entities could not be aligned in the text \"Karan Turkar Balaghat, Madhya Pradesh - Email me o...\" with entities \"[(228, 272, 'Skills'), (214, 218, 'College Name'),...\". Use `spacy.training.offsets_to_biluo_tags(nlp.make_doc(text), entities)` to check the alignment. Misaligned entities ('-') will be ignored during training.\n",
      "  entities=ent_str[:50] + \"...\" if len(ent_str) > 50 else ent_str,\n",
      "C:\\Users\\samsu\\anaconda3\\lib\\site-packages\\spacy\\training\\iob_utils.py:142: UserWarning: [W030] Some entities could not be aligned in the text \"Raktim Podder 6+ Exp in banking operations and cre...\" with entities \"[(8800, 8928, 'Skills'), (8760, 8789, 'College Nam...\". Use `spacy.training.offsets_to_biluo_tags(nlp.make_doc(text), entities)` to check the alignment. Misaligned entities ('-') will be ignored during training.\n",
      "  entities=ent_str[:50] + \"...\" if len(ent_str) > 50 else ent_str,\n",
      "C:\\Users\\samsu\\anaconda3\\lib\\site-packages\\spacy\\training\\iob_utils.py:142: UserWarning: [W030] Some entities could not be aligned in the text \"Praveen Bhaskar Program Manager (Software Delivery...\" with entities \"[(4459, 4959, 'Skills'), (4445, 4450, 'Designation...\". Use `spacy.training.offsets_to_biluo_tags(nlp.make_doc(text), entities)` to check the alignment. Misaligned entities ('-') will be ignored during training.\n",
      "  entities=ent_str[:50] + \"...\" if len(ent_str) > 50 else ent_str,\n",
      "C:\\Users\\samsu\\anaconda3\\lib\\site-packages\\spacy\\training\\iob_utils.py:142: UserWarning: [W030] Some entities could not be aligned in the text \"VARUN AHLUWALIA Quantitative Analyst  - Email me o...\" with entities \"[(773, 848, 'Skills'), (735, 740, 'Graduation Year...\". Use `spacy.training.offsets_to_biluo_tags(nlp.make_doc(text), entities)` to check the alignment. Misaligned entities ('-') will be ignored during training.\n",
      "  entities=ent_str[:50] + \"...\" if len(ent_str) > 50 else ent_str,\n",
      "C:\\Users\\samsu\\anaconda3\\lib\\site-packages\\spacy\\training\\iob_utils.py:142: UserWarning: [W030] Some entities could not be aligned in the text \"Akshay Dubey Actively looking for opportunity in ....\" with entities \"[(2889, 3089, 'Skills'), (2734, 2846, 'Skills'), (...\". Use `spacy.training.offsets_to_biluo_tags(nlp.make_doc(text), entities)` to check the alignment. Misaligned entities ('-') will be ignored during training.\n",
      "  entities=ent_str[:50] + \"...\" if len(ent_str) > 50 else ent_str,\n",
      "C:\\Users\\samsu\\anaconda3\\lib\\site-packages\\spacy\\training\\iob_utils.py:142: UserWarning: [W030] Some entities could not be aligned in the text \"Prasanna Ignatius MICROSOFT - Backup Administrator...\" with entities \"[(3917, 3975, 'Skills'), (3790, 3835, 'College Nam...\". Use `spacy.training.offsets_to_biluo_tags(nlp.make_doc(text), entities)` to check the alignment. Misaligned entities ('-') will be ignored during training.\n",
      "  entities=ent_str[:50] + \"...\" if len(ent_str) > 50 else ent_str,\n"
     ]
    },
    {
     "name": "stderr",
     "output_type": "stream",
     "text": [
      "C:\\Users\\samsu\\anaconda3\\lib\\site-packages\\spacy\\training\\iob_utils.py:142: UserWarning: [W030] Some entities could not be aligned in the text \"Avani Priya - Email me on Indeed: indeed.com/r/Ava...\" with entities \"[(368, 409, 'Email Address'), (314, 334, 'College ...\". Use `spacy.training.offsets_to_biluo_tags(nlp.make_doc(text), entities)` to check the alignment. Misaligned entities ('-') will be ignored during training.\n",
      "  entities=ent_str[:50] + \"...\" if len(ent_str) > 50 else ent_str,\n",
      "C:\\Users\\samsu\\anaconda3\\lib\\site-packages\\spacy\\training\\iob_utils.py:142: UserWarning: [W030] Some entities could not be aligned in the text \"Gunjan Nayyar Hoshiarpur, Punjab - Email me on Ind...\" with entities \"[(1234, 1277, 'Email Address'), (1146, 1150, 'Grad...\". Use `spacy.training.offsets_to_biluo_tags(nlp.make_doc(text), entities)` to check the alignment. Misaligned entities ('-') will be ignored during training.\n",
      "  entities=ent_str[:50] + \"...\" if len(ent_str) > 50 else ent_str,\n",
      "C:\\Users\\samsu\\anaconda3\\lib\\site-packages\\spacy\\training\\iob_utils.py:142: UserWarning: [W030] Some entities could not be aligned in the text \"Jyotirbindu Patnaik Associate consultant@SAP labs ...\" with entities \"[(3052, 3067, 'Skills'), (2993, 3016, 'College Nam...\". Use `spacy.training.offsets_to_biluo_tags(nlp.make_doc(text), entities)` to check the alignment. Misaligned entities ('-') will be ignored during training.\n",
      "  entities=ent_str[:50] + \"...\" if len(ent_str) > 50 else ent_str,\n",
      "C:\\Users\\samsu\\anaconda3\\lib\\site-packages\\spacy\\training\\iob_utils.py:142: UserWarning: [W030] Some entities could not be aligned in the text \"Divesh Singh Bengaluru, Karnataka - Email me on In...\" with entities \"[(947, 1180, 'Skills'), (833, 845, 'College Name')...\". Use `spacy.training.offsets_to_biluo_tags(nlp.make_doc(text), entities)` to check the alignment. Misaligned entities ('-') will be ignored during training.\n",
      "  entities=ent_str[:50] + \"...\" if len(ent_str) > 50 else ent_str,\n",
      "C:\\Users\\samsu\\anaconda3\\lib\\site-packages\\spacy\\training\\iob_utils.py:142: UserWarning: [W030] Some entities could not be aligned in the text \"Somanath Behera Associate, Cognizant technology So...\" with entities \"[(1916, 2392, 'Skills'), (1562, 1567, 'College Nam...\". Use `spacy.training.offsets_to_biluo_tags(nlp.make_doc(text), entities)` to check the alignment. Misaligned entities ('-') will be ignored during training.\n",
      "  entities=ent_str[:50] + \"...\" if len(ent_str) > 50 else ent_str,\n",
      "C:\\Users\\samsu\\anaconda3\\lib\\site-packages\\spacy\\training\\iob_utils.py:142: UserWarning: [W030] Some entities could not be aligned in the text \"Karthik GV Architect - Microsoft India  Hyderabad,...\" with entities \"[(4048, 4169, 'Skills'), (4034, 4038, 'Graduation ...\". Use `spacy.training.offsets_to_biluo_tags(nlp.make_doc(text), entities)` to check the alignment. Misaligned entities ('-') will be ignored during training.\n",
      "  entities=ent_str[:50] + \"...\" if len(ent_str) > 50 else ent_str,\n",
      "C:\\Users\\samsu\\anaconda3\\lib\\site-packages\\spacy\\training\\iob_utils.py:142: UserWarning: [W030] Some entities could not be aligned in the text \"Abdul B Arabic Language supporter (Content Analyst...\" with entities \"[(2349, 2472, 'Skills'), (2331, 2340, 'Degree'), (...\". Use `spacy.training.offsets_to_biluo_tags(nlp.make_doc(text), entities)` to check the alignment. Misaligned entities ('-') will be ignored during training.\n",
      "  entities=ent_str[:50] + \"...\" if len(ent_str) > 50 else ent_str,\n",
      "C:\\Users\\samsu\\anaconda3\\lib\\site-packages\\spacy\\training\\iob_utils.py:142: UserWarning: [W030] Some entities could not be aligned in the text \"Shaik Tazuddin Senior Process Executive - STAR Ind...\" with entities \"[(2877, 3031, 'Skills'), (2728, 2742, 'College Nam...\". Use `spacy.training.offsets_to_biluo_tags(nlp.make_doc(text), entities)` to check the alignment. Misaligned entities ('-') will be ignored during training.\n",
      "  entities=ent_str[:50] + \"...\" if len(ent_str) > 50 else ent_str,\n",
      "C:\\Users\\samsu\\anaconda3\\lib\\site-packages\\spacy\\training\\iob_utils.py:142: UserWarning: [W030] Some entities could not be aligned in the text \"Bangalore Tavarekere Volunteer Contestant, Yappon ...\" with entities \"[(386, 391, 'Graduation Year'), (320, 361, 'Colleg...\". Use `spacy.training.offsets_to_biluo_tags(nlp.make_doc(text), entities)` to check the alignment. Misaligned entities ('-') will be ignored during training.\n",
      "  entities=ent_str[:50] + \"...\" if len(ent_str) > 50 else ent_str,\n",
      "C:\\Users\\samsu\\anaconda3\\lib\\site-packages\\spacy\\training\\iob_utils.py:142: UserWarning: [W030] Some entities could not be aligned in the text \"Deepika S Test Engineer - Infosys Ltd  - Email me ...\" with entities \"[(3170, 3174, 'Graduation Year'), (3120, 3143, 'Co...\". Use `spacy.training.offsets_to_biluo_tags(nlp.make_doc(text), entities)` to check the alignment. Misaligned entities ('-') will be ignored during training.\n",
      "  entities=ent_str[:50] + \"...\" if len(ent_str) > 50 else ent_str,\n",
      "C:\\Users\\samsu\\anaconda3\\lib\\site-packages\\spacy\\training\\iob_utils.py:142: UserWarning: [W030] Some entities could not be aligned in the text \"shrikant desai Working as accountant @ infosys  Pu...\" with entities \"[(589, 737, 'Skills'), (421, 523, 'Skills'), (391,...\". Use `spacy.training.offsets_to_biluo_tags(nlp.make_doc(text), entities)` to check the alignment. Misaligned entities ('-') will be ignored during training.\n",
      "  entities=ent_str[:50] + \"...\" if len(ent_str) > 50 else ent_str,\n",
      "C:\\Users\\samsu\\anaconda3\\lib\\site-packages\\spacy\\training\\iob_utils.py:142: UserWarning: [W030] Some entities could not be aligned in the text \"Nikhileshkumar Ikhar Product development engineer ...\" with entities \"[(3036, 3078, 'Skills'), (2922, 3018, 'Skills'), (...\". Use `spacy.training.offsets_to_biluo_tags(nlp.make_doc(text), entities)` to check the alignment. Misaligned entities ('-') will be ignored during training.\n",
      "  entities=ent_str[:50] + \"...\" if len(ent_str) > 50 else ent_str,\n",
      "C:\\Users\\samsu\\anaconda3\\lib\\site-packages\\spacy\\training\\iob_utils.py:142: UserWarning: [W030] Some entities could not be aligned in the text \"Sudaya Puranik Principal Engineer Technical Staff ...\" with entities \"[(2656, 2689, 'Skills'), (2586, 2626, 'College Nam...\". Use `spacy.training.offsets_to_biluo_tags(nlp.make_doc(text), entities)` to check the alignment. Misaligned entities ('-') will be ignored during training.\n",
      "  entities=ent_str[:50] + \"...\" if len(ent_str) > 50 else ent_str,\n",
      "C:\\Users\\samsu\\anaconda3\\lib\\site-packages\\spacy\\training\\iob_utils.py:142: UserWarning: [W030] Some entities could not be aligned in the text \"Sai Patha Mule ESB Integration Developer - Cisco S...\" with entities \"[(11921, 12599, 'Skills'), (11791, 11876, 'Skills'...\". Use `spacy.training.offsets_to_biluo_tags(nlp.make_doc(text), entities)` to check the alignment. Misaligned entities ('-') will be ignored during training.\n",
      "  entities=ent_str[:50] + \"...\" if len(ent_str) > 50 else ent_str,\n",
      "C:\\Users\\samsu\\anaconda3\\lib\\site-packages\\spacy\\training\\iob_utils.py:142: UserWarning: [W030] Some entities could not be aligned in the text \"Ravi Shivgond Bidar, Karnataka - Email me on Indee...\" with entities \"[(1341, 1384, 'Email Address'), (1131, 1136, 'Loca...\". Use `spacy.training.offsets_to_biluo_tags(nlp.make_doc(text), entities)` to check the alignment. Misaligned entities ('-') will be ignored during training.\n",
      "  entities=ent_str[:50] + \"...\" if len(ent_str) > 50 else ent_str,\n",
      "C:\\Users\\samsu\\anaconda3\\lib\\site-packages\\spacy\\training\\iob_utils.py:142: UserWarning: [W030] Some entities could not be aligned in the text \"K. Siddharth System Administrator (Server) Microso...\" with entities \"[(1826, 1843, 'Location'), (1791, 1823, 'College N...\". Use `spacy.training.offsets_to_biluo_tags(nlp.make_doc(text), entities)` to check the alignment. Misaligned entities ('-') will be ignored during training.\n",
      "  entities=ent_str[:50] + \"...\" if len(ent_str) > 50 else ent_str,\n",
      "C:\\Users\\samsu\\anaconda3\\lib\\site-packages\\spacy\\training\\iob_utils.py:142: UserWarning: [W030] Some entities could not be aligned in the text \"Moumita Mitra - Email me on Indeed: indeed.com/r/M...\" with entities \"[(1963, 2094, 'Skills'), (1818, 1926, 'Skills'), (...\". Use `spacy.training.offsets_to_biluo_tags(nlp.make_doc(text), entities)` to check the alignment. Misaligned entities ('-') will be ignored during training.\n",
      "  entities=ent_str[:50] + \"...\" if len(ent_str) > 50 else ent_str,\n",
      "C:\\Users\\samsu\\anaconda3\\lib\\site-packages\\spacy\\training\\iob_utils.py:142: UserWarning: [W030] Some entities could not be aligned in the text \"Zaheer Uddin Technical Project Manager  Hyderabad,...\" with entities \"[(4901, 4910, 'Location'), (4843, 4861, 'College N...\". Use `spacy.training.offsets_to_biluo_tags(nlp.make_doc(text), entities)` to check the alignment. Misaligned entities ('-') will be ignored during training.\n",
      "  entities=ent_str[:50] + \"...\" if len(ent_str) > 50 else ent_str,\n"
     ]
    },
    {
     "name": "stderr",
     "output_type": "stream",
     "text": [
      "C:\\Users\\samsu\\anaconda3\\lib\\site-packages\\spacy\\training\\iob_utils.py:142: UserWarning: [W030] Some entities could not be aligned in the text \"Fenil Francis head of operation and logistics  Tri...\" with entities \"[(774, 897, 'Skills'), (694, 728, 'Skills'), (648,...\". Use `spacy.training.offsets_to_biluo_tags(nlp.make_doc(text), entities)` to check the alignment. Misaligned entities ('-') will be ignored during training.\n",
      "  entities=ent_str[:50] + \"...\" if len(ent_str) > 50 else ent_str,\n",
      "C:\\Users\\samsu\\anaconda3\\lib\\site-packages\\spacy\\training\\iob_utils.py:142: UserWarning: [W030] Some entities could not be aligned in the text \"Puneet Singh Associate Software Engineer  Bengalur...\" with entities \"[(989, 1007, 'Skills'), (952, 968, 'Skills'), (919...\". Use `spacy.training.offsets_to_biluo_tags(nlp.make_doc(text), entities)` to check the alignment. Misaligned entities ('-') will be ignored during training.\n",
      "  entities=ent_str[:50] + \"...\" if len(ent_str) > 50 else ent_str,\n",
      "C:\\Users\\samsu\\anaconda3\\lib\\site-packages\\spacy\\training\\iob_utils.py:142: UserWarning: [W030] Some entities could not be aligned in the text \"Gaurav Soni New Delhi, Delhi - Email me on Indeed:...\" with entities \"[(1089, 1239, 'Skills'), (921, 1063, 'Skills'), (9...\". Use `spacy.training.offsets_to_biluo_tags(nlp.make_doc(text), entities)` to check the alignment. Misaligned entities ('-') will be ignored during training.\n",
      "  entities=ent_str[:50] + \"...\" if len(ent_str) > 50 else ent_str,\n",
      "C:\\Users\\samsu\\anaconda3\\lib\\site-packages\\spacy\\training\\iob_utils.py:142: UserWarning: [W030] Some entities could not be aligned in the text \"Akila Mohideen System Engineer, Infosys Limited, I...\" with entities \"[(2207, 2359, 'Skills'), (2095, 2138, 'College Nam...\". Use `spacy.training.offsets_to_biluo_tags(nlp.make_doc(text), entities)` to check the alignment. Misaligned entities ('-') will be ignored during training.\n",
      "  entities=ent_str[:50] + \"...\" if len(ent_str) > 50 else ent_str,\n",
      "C:\\Users\\samsu\\anaconda3\\lib\\site-packages\\spacy\\training\\iob_utils.py:142: UserWarning: [W030] Some entities could not be aligned in the text \"Ramkrishan Bhatt python developer  Bengaluru, Karn...\" with entities \"[(1439, 1468, 'College Name'), (1434, 1437, 'Degre...\". Use `spacy.training.offsets_to_biluo_tags(nlp.make_doc(text), entities)` to check the alignment. Misaligned entities ('-') will be ignored during training.\n",
      "  entities=ent_str[:50] + \"...\" if len(ent_str) > 50 else ent_str,\n",
      "C:\\Users\\samsu\\anaconda3\\lib\\site-packages\\spacy\\training\\iob_utils.py:142: UserWarning: [W030] Some entities could not be aligned in the text \"Koushik Katta Devops  Hyderabad, Telangana - Email...\" with entities \"[(2957, 3074, 'Skills'), (2943, 2948, 'Graduation ...\". Use `spacy.training.offsets_to_biluo_tags(nlp.make_doc(text), entities)` to check the alignment. Misaligned entities ('-') will be ignored during training.\n",
      "  entities=ent_str[:50] + \"...\" if len(ent_str) > 50 else ent_str,\n",
      "C:\\Users\\samsu\\anaconda3\\lib\\site-packages\\spacy\\training\\iob_utils.py:142: UserWarning: [W030] Some entities could not be aligned in the text \"kimaya sonawane Thane, Maharashtra - Email me on I...\" with entities \"[(802, 806, 'Graduation Year'), (524, 661, 'Skills...\". Use `spacy.training.offsets_to_biluo_tags(nlp.make_doc(text), entities)` to check the alignment. Misaligned entities ('-') will be ignored during training.\n",
      "  entities=ent_str[:50] + \"...\" if len(ent_str) > 50 else ent_str,\n",
      "C:\\Users\\samsu\\anaconda3\\lib\\site-packages\\spacy\\training\\iob_utils.py:142: UserWarning: [W030] Some entities could not be aligned in the text \"Sridevi H Bangalore, Karnataka - Email me on Indee...\" with entities \"[(2473, 2498, 'Designation'), (2030, 2037, 'Compan...\". Use `spacy.training.offsets_to_biluo_tags(nlp.make_doc(text), entities)` to check the alignment. Misaligned entities ('-') will be ignored during training.\n",
      "  entities=ent_str[:50] + \"...\" if len(ent_str) > 50 else ent_str,\n",
      "C:\\Users\\samsu\\anaconda3\\lib\\site-packages\\spacy\\training\\iob_utils.py:142: UserWarning: [W030] Some entities could not be aligned in the text \"Gaikwad Dilip Microsoft Dainamic Software Billing ...\" with entities \"[(951, 990, 'Skills'), (926, 941, 'Companies worke...\". Use `spacy.training.offsets_to_biluo_tags(nlp.make_doc(text), entities)` to check the alignment. Misaligned entities ('-') will be ignored during training.\n",
      "  entities=ent_str[:50] + \"...\" if len(ent_str) > 50 else ent_str,\n",
      "C:\\Users\\samsu\\anaconda3\\lib\\site-packages\\spacy\\training\\iob_utils.py:142: UserWarning: [W030] Some entities could not be aligned in the text \"Ramesh HP CES ASSOCIATE CONSULTANT  Bangalore, Kar...\" with entities \"[(2668, 2945, 'Skills'), (2618, 2638, 'College Nam...\". Use `spacy.training.offsets_to_biluo_tags(nlp.make_doc(text), entities)` to check the alignment. Misaligned entities ('-') will be ignored during training.\n",
      "  entities=ent_str[:50] + \"...\" if len(ent_str) > 50 else ent_str,\n",
      "C:\\Users\\samsu\\anaconda3\\lib\\site-packages\\spacy\\training\\iob_utils.py:142: UserWarning: [W030] Some entities could not be aligned in the text \"Srinivas VO Sr. Test Manager  Mumbai, Maharashtra ...\" with entities \"[(11201, 11409, 'Skills'), (11172, 11191, 'College...\". Use `spacy.training.offsets_to_biluo_tags(nlp.make_doc(text), entities)` to check the alignment. Misaligned entities ('-') will be ignored during training.\n",
      "  entities=ent_str[:50] + \"...\" if len(ent_str) > 50 else ent_str,\n",
      "C:\\Users\\samsu\\anaconda3\\lib\\site-packages\\spacy\\training\\iob_utils.py:142: UserWarning: [W030] Some entities could not be aligned in the text \"Sanand Pal SQL and MSBI Developer with experience ...\" with entities \"[(3056, 3090, 'Skills'), (3042, 3046, 'Graduation ...\". Use `spacy.training.offsets_to_biluo_tags(nlp.make_doc(text), entities)` to check the alignment. Misaligned entities ('-') will be ignored during training.\n",
      "  entities=ent_str[:50] + \"...\" if len(ent_str) > 50 else ent_str,\n",
      "C:\\Users\\samsu\\anaconda3\\lib\\site-packages\\spacy\\training\\iob_utils.py:142: UserWarning: [W030] Some entities could not be aligned in the text \"pradeep chauhan pradeep chauhan  Noida, Uttar Prad...\" with entities \"[(332, 337, 'Location'), (296, 329, 'College Name'...\". Use `spacy.training.offsets_to_biluo_tags(nlp.make_doc(text), entities)` to check the alignment. Misaligned entities ('-') will be ignored during training.\n",
      "  entities=ent_str[:50] + \"...\" if len(ent_str) > 50 else ent_str,\n",
      "C:\\Users\\samsu\\anaconda3\\lib\\site-packages\\spacy\\training\\iob_utils.py:142: UserWarning: [W030] Some entities could not be aligned in the text \"Shabnam Saba Offshore SAP CRM Functional Consultan...\" with entities \"[(3347, 3474, 'Skills'), (3333, 3337, 'Graduation ...\". Use `spacy.training.offsets_to_biluo_tags(nlp.make_doc(text), entities)` to check the alignment. Misaligned entities ('-') will be ignored during training.\n",
      "  entities=ent_str[:50] + \"...\" if len(ent_str) > 50 else ent_str,\n",
      "C:\\Users\\samsu\\anaconda3\\lib\\site-packages\\spacy\\training\\iob_utils.py:142: UserWarning: [W030] Some entities could not be aligned in the text \"Arpit Godha Senior Process Executive  Jaipur, Raja...\" with entities \"[(3144, 3495, 'Skills'), (3081, 3104, 'College Nam...\". Use `spacy.training.offsets_to_biluo_tags(nlp.make_doc(text), entities)` to check the alignment. Misaligned entities ('-') will be ignored during training.\n",
      "  entities=ent_str[:50] + \"...\" if len(ent_str) > 50 else ent_str,\n",
      "C:\\Users\\samsu\\anaconda3\\lib\\site-packages\\spacy\\training\\iob_utils.py:142: UserWarning: [W030] Some entities could not be aligned in the text \"Shubham Mittal System Engineer - Infosys Limited  ...\" with entities \"[(2197, 2231, 'Skills'), (2184, 2188, 'Graduation ...\". Use `spacy.training.offsets_to_biluo_tags(nlp.make_doc(text), entities)` to check the alignment. Misaligned entities ('-') will be ignored during training.\n",
      "  entities=ent_str[:50] + \"...\" if len(ent_str) > 50 else ent_str,\n",
      "C:\\Users\\samsu\\anaconda3\\lib\\site-packages\\spacy\\training\\iob_utils.py:142: UserWarning: [W030] Some entities could not be aligned in the text \"Pratik Vaidya Pune, Maharashtra - Email me on Inde...\" with entities \"[(1901, 1906, 'Skills'), (1812, 1816, 'Graduation ...\". Use `spacy.training.offsets_to_biluo_tags(nlp.make_doc(text), entities)` to check the alignment. Misaligned entities ('-') will be ignored during training.\n",
      "  entities=ent_str[:50] + \"...\" if len(ent_str) > 50 else ent_str,\n"
     ]
    },
    {
     "name": "stderr",
     "output_type": "stream",
     "text": [
      "C:\\Users\\samsu\\anaconda3\\lib\\site-packages\\spacy\\training\\iob_utils.py:142: UserWarning: [W030] Some entities could not be aligned in the text \"Navjyot Singh Rathore Ulhasnagar, Maharashtra - Em...\" with entities \"[(605, 753, 'Skills'), (403, 407, 'Graduation Year...\". Use `spacy.training.offsets_to_biluo_tags(nlp.make_doc(text), entities)` to check the alignment. Misaligned entities ('-') will be ignored during training.\n",
      "  entities=ent_str[:50] + \"...\" if len(ent_str) > 50 else ent_str,\n",
      "C:\\Users\\samsu\\anaconda3\\lib\\site-packages\\spacy\\training\\iob_utils.py:142: UserWarning: [W030] Some entities could not be aligned in the text \"Vineeth Vijayan \"Store Executive\" - Orange City Ho...\" with entities \"[(6994, 7350, 'Skills'), (6936, 6973, 'College Nam...\". Use `spacy.training.offsets_to_biluo_tags(nlp.make_doc(text), entities)` to check the alignment. Misaligned entities ('-') will be ignored during training.\n",
      "  entities=ent_str[:50] + \"...\" if len(ent_str) > 50 else ent_str,\n",
      "C:\\Users\\samsu\\anaconda3\\lib\\site-packages\\spacy\\training\\iob_utils.py:142: UserWarning: [W030] Some entities could not be aligned in the text \"Nidhi Pandit Test Engineer - Infosys Limited  - Em...\" with entities \"[(3132, 3611, 'Skills'), (3005, 3083, 'Skills'), (...\". Use `spacy.training.offsets_to_biluo_tags(nlp.make_doc(text), entities)` to check the alignment. Misaligned entities ('-') will be ignored during training.\n",
      "  entities=ent_str[:50] + \"...\" if len(ent_str) > 50 else ent_str,\n",
      "C:\\Users\\samsu\\anaconda3\\lib\\site-packages\\spacy\\training\\iob_utils.py:142: UserWarning: [W030] Some entities could not be aligned in the text \"Chaban kumar Debbarma Tripura - Email me on Indeed...\" with entities \"[(277, 328, 'Email Address'), (257, 263, 'College ...\". Use `spacy.training.offsets_to_biluo_tags(nlp.make_doc(text), entities)` to check the alignment. Misaligned entities ('-') will be ignored during training.\n",
      "  entities=ent_str[:50] + \"...\" if len(ent_str) > 50 else ent_str,\n",
      "C:\\Users\\samsu\\anaconda3\\lib\\site-packages\\spacy\\training\\iob_utils.py:142: UserWarning: [W030] Some entities could not be aligned in the text \"Ganesh AlalaSundaram A Dev-Test Professional with ...\" with entities \"[(3321, 3376, 'Skills'), (3296, 3311, 'College Nam...\". Use `spacy.training.offsets_to_biluo_tags(nlp.make_doc(text), entities)` to check the alignment. Misaligned entities ('-') will be ignored during training.\n",
      "  entities=ent_str[:50] + \"...\" if len(ent_str) > 50 else ent_str,\n",
      "C:\\Users\\samsu\\anaconda3\\lib\\site-packages\\spacy\\training\\iob_utils.py:142: UserWarning: [W030] Some entities could not be aligned in the text \"Siddhartha Chetri 7 years of experience in IT Netw...\" with entities \"[(5471, 5838, 'Skills'), (5457, 5461, 'Graduation ...\". Use `spacy.training.offsets_to_biluo_tags(nlp.make_doc(text), entities)` to check the alignment. Misaligned entities ('-') will be ignored during training.\n",
      "  entities=ent_str[:50] + \"...\" if len(ent_str) > 50 else ent_str,\n",
      "C:\\Users\\samsu\\anaconda3\\lib\\site-packages\\spacy\\training\\iob_utils.py:142: UserWarning: [W030] Some entities could not be aligned in the text \"Shrinidhi Selva Kumar NOC and QA Engineer at Skava...\" with entities \"[(757, 761, 'Graduation Year'), (702, 750, 'Colleg...\". Use `spacy.training.offsets_to_biluo_tags(nlp.make_doc(text), entities)` to check the alignment. Misaligned entities ('-') will be ignored during training.\n",
      "  entities=ent_str[:50] + \"...\" if len(ent_str) > 50 else ent_str,\n",
      "C:\\Users\\samsu\\anaconda3\\lib\\site-packages\\spacy\\training\\iob_utils.py:142: UserWarning: [W030] Some entities could not be aligned in the text \"Aarti Pimplay Operations Center Shift Manager (OCS...\" with entities \"[(3054, 3363, 'Skills'), (2333, 2341, 'Companies w...\". Use `spacy.training.offsets_to_biluo_tags(nlp.make_doc(text), entities)` to check the alignment. Misaligned entities ('-') will be ignored during training.\n",
      "  entities=ent_str[:50] + \"...\" if len(ent_str) > 50 else ent_str,\n",
      "C:\\Users\\samsu\\anaconda3\\lib\\site-packages\\spacy\\training\\iob_utils.py:142: UserWarning: [W030] Some entities could not be aligned in the text \"Soumya Balan Soumya Balan - BE Computer Science - ...\" with entities \"[(3036, 3040, 'Graduation Year'), (2717, 2959, 'Sk...\". Use `spacy.training.offsets_to_biluo_tags(nlp.make_doc(text), entities)` to check the alignment. Misaligned entities ('-') will be ignored during training.\n",
      "  entities=ent_str[:50] + \"...\" if len(ent_str) > 50 else ent_str,\n",
      "C:\\Users\\samsu\\anaconda3\\lib\\site-packages\\spacy\\training\\iob_utils.py:142: UserWarning: [W030] Some entities could not be aligned in the text \"Debasish Dasgupta Trainer-Finacle-Core Banking Sol...\" with entities \"[(5840, 5847, 'Companies worked at'), (2090, 2137,...\". Use `spacy.training.offsets_to_biluo_tags(nlp.make_doc(text), entities)` to check the alignment. Misaligned entities ('-') will be ignored during training.\n",
      "  entities=ent_str[:50] + \"...\" if len(ent_str) > 50 else ent_str,\n",
      "C:\\Users\\samsu\\anaconda3\\lib\\site-packages\\spacy\\training\\iob_utils.py:142: UserWarning: [W030] Some entities could not be aligned in the text \"Sivaganesh Selvakumar DevOps Consultant with Infos...\" with entities \"[(2349, 2642, 'Skills'), (2257, 2291, 'College Nam...\". Use `spacy.training.offsets_to_biluo_tags(nlp.make_doc(text), entities)` to check the alignment. Misaligned entities ('-') will be ignored during training.\n",
      "  entities=ent_str[:50] + \"...\" if len(ent_str) > 50 else ent_str,\n",
      "C:\\Users\\samsu\\anaconda3\\lib\\site-packages\\spacy\\training\\iob_utils.py:142: UserWarning: [W030] Some entities could not be aligned in the text \"Shaheen Unissa SAP ABAP Consultant  Hyderabad, Tel...\" with entities \"[(12088, 12384, 'Skills'), (12044, 12048, 'Graduat...\". Use `spacy.training.offsets_to_biluo_tags(nlp.make_doc(text), entities)` to check the alignment. Misaligned entities ('-') will be ignored during training.\n",
      "  entities=ent_str[:50] + \"...\" if len(ent_str) > 50 else ent_str,\n",
      "C:\\Users\\samsu\\anaconda3\\lib\\site-packages\\spacy\\training\\iob_utils.py:142: UserWarning: [W030] Some entities could not be aligned in the text \"Vijayalakshmi Govindarajan SAP as a Consultant - S...\" with entities \"[(6310, 6336, 'Name'), (5746, 5755, 'Companies wor...\". Use `spacy.training.offsets_to_biluo_tags(nlp.make_doc(text), entities)` to check the alignment. Misaligned entities ('-') will be ignored during training.\n",
      "  entities=ent_str[:50] + \"...\" if len(ent_str) > 50 else ent_str,\n",
      "C:\\Users\\samsu\\anaconda3\\lib\\site-packages\\spacy\\training\\iob_utils.py:142: UserWarning: [W030] Some entities could not be aligned in the text \"Bike Rally Chief Coordinator of LEAR  Palghat, Ker...\" with entities \"[(826, 830, 'Graduation Year'), (779, 797, 'Colleg...\". Use `spacy.training.offsets_to_biluo_tags(nlp.make_doc(text), entities)` to check the alignment. Misaligned entities ('-') will be ignored during training.\n",
      "  entities=ent_str[:50] + \"...\" if len(ent_str) > 50 else ent_str,\n",
      "C:\\Users\\samsu\\anaconda3\\lib\\site-packages\\spacy\\training\\iob_utils.py:142: UserWarning: [W030] Some entities could not be aligned in the text \"Yathishwaran P Maximo Consultant - Infosys Limited...\" with entities \"[(19523, 19683, 'Skills'), (19377, 19479, 'Skills'...\". Use `spacy.training.offsets_to_biluo_tags(nlp.make_doc(text), entities)` to check the alignment. Misaligned entities ('-') will be ignored during training.\n",
      "  entities=ent_str[:50] + \"...\" if len(ent_str) > 50 else ent_str,\n",
      "C:\\Users\\samsu\\anaconda3\\lib\\site-packages\\spacy\\training\\iob_utils.py:142: UserWarning: [W030] Some entities could not be aligned in the text \"Srinu Naik Ramavath anymore job  Serilingampalle, ...\" with entities \"[(670, 694, 'Skills'), (596, 644, 'Skills'), (375,...\". Use `spacy.training.offsets_to_biluo_tags(nlp.make_doc(text), entities)` to check the alignment. Misaligned entities ('-') will be ignored during training.\n",
      "  entities=ent_str[:50] + \"...\" if len(ent_str) > 50 else ent_str,\n",
      "C:\\Users\\samsu\\anaconda3\\lib\\site-packages\\spacy\\training\\iob_utils.py:142: UserWarning: [W030] Some entities could not be aligned in the text \"Lakshika Neelakshi Senior Systems Engineer - Infos...\" with entities \"[(7260, 7599, 'Skills'), (3628, 3637, 'Location'),...\". Use `spacy.training.offsets_to_biluo_tags(nlp.make_doc(text), entities)` to check the alignment. Misaligned entities ('-') will be ignored during training.\n",
      "  entities=ent_str[:50] + \"...\" if len(ent_str) > 50 else ent_str,\n",
      "C:\\Users\\samsu\\anaconda3\\lib\\site-packages\\spacy\\training\\iob_utils.py:142: UserWarning: [W030] Some entities could not be aligned in the text \"Suman Biswas SAP UI5 Lead, Native HANA Developer -...\" with entities \"[(5053, 5059, 'Companies worked at'), (5013, 5019,...\". Use `spacy.training.offsets_to_biluo_tags(nlp.make_doc(text), entities)` to check the alignment. Misaligned entities ('-') will be ignored during training.\n",
      "  entities=ent_str[:50] + \"...\" if len(ent_str) > 50 else ent_str,\n"
     ]
    },
    {
     "name": "stderr",
     "output_type": "stream",
     "text": [
      "C:\\Users\\samsu\\anaconda3\\lib\\site-packages\\spacy\\training\\iob_utils.py:142: UserWarning: [W030] Some entities could not be aligned in the text \"Pavithra M \"Infosys\" internship  Bengaluru, Karnat...\" with entities \"[(998, 1038, 'Email Address'), (611, 984, 'Skills'...\". Use `spacy.training.offsets_to_biluo_tags(nlp.make_doc(text), entities)` to check the alignment. Misaligned entities ('-') will be ignored during training.\n",
      "  entities=ent_str[:50] + \"...\" if len(ent_str) > 50 else ent_str,\n",
      "C:\\Users\\samsu\\anaconda3\\lib\\site-packages\\spacy\\training\\iob_utils.py:142: UserWarning: [W030] Some entities could not be aligned in the text \"Asha Subbaiah (Microsoft Partner Readiness Operati...\" with entities \"[(3345, 3380, 'College Name'), (3321, 3344, 'Degre...\". Use `spacy.training.offsets_to_biluo_tags(nlp.make_doc(text), entities)` to check the alignment. Misaligned entities ('-') will be ignored during training.\n",
      "  entities=ent_str[:50] + \"...\" if len(ent_str) > 50 else ent_str,\n",
      "C:\\Users\\samsu\\anaconda3\\lib\\site-packages\\spacy\\training\\iob_utils.py:142: UserWarning: [W030] Some entities could not be aligned in the text \"Sai Vivek Venkatraman Decisive, Data driven and re...\" with entities \"[(5105, 5109, 'Graduation Year'), (5043, 5095, 'Co...\". Use `spacy.training.offsets_to_biluo_tags(nlp.make_doc(text), entities)` to check the alignment. Misaligned entities ('-') will be ignored during training.\n",
      "  entities=ent_str[:50] + \"...\" if len(ent_str) > 50 else ent_str,\n",
      "C:\\Users\\samsu\\anaconda3\\lib\\site-packages\\spacy\\training\\iob_utils.py:142: UserWarning: [W030] Some entities could not be aligned in the text \"Dilliraja Baskaran Tamil Nadu - Email me on Indeed...\" with entities \"[(363, 411, 'Email Address'), (314, 349, 'Skills')...\". Use `spacy.training.offsets_to_biluo_tags(nlp.make_doc(text), entities)` to check the alignment. Misaligned entities ('-') will be ignored during training.\n",
      "  entities=ent_str[:50] + \"...\" if len(ent_str) > 50 else ent_str,\n",
      "C:\\Users\\samsu\\anaconda3\\lib\\site-packages\\spacy\\training\\iob_utils.py:142: UserWarning: [W030] Some entities could not be aligned in the text \"Paul Rajiv Secunderabad, Andhra Pradesh - Email me...\" with entities \"[(4729, 4733, 'Graduation Year'), (2634, 2638, 'Gr...\". Use `spacy.training.offsets_to_biluo_tags(nlp.make_doc(text), entities)` to check the alignment. Misaligned entities ('-') will be ignored during training.\n",
      "  entities=ent_str[:50] + \"...\" if len(ent_str) > 50 else ent_str,\n",
      "C:\\Users\\samsu\\anaconda3\\lib\\site-packages\\spacy\\training\\iob_utils.py:142: UserWarning: [W030] Some entities could not be aligned in the text \"Ijas Nizamuddin Associate Consultant - State Stree...\" with entities \"[(4652, 4850, 'Skills'), (4607, 4612, 'Graduation ...\". Use `spacy.training.offsets_to_biluo_tags(nlp.make_doc(text), entities)` to check the alignment. Misaligned entities ('-') will be ignored during training.\n",
      "  entities=ent_str[:50] + \"...\" if len(ent_str) > 50 else ent_str,\n",
      "C:\\Users\\samsu\\anaconda3\\lib\\site-packages\\spacy\\training\\iob_utils.py:142: UserWarning: [W030] Some entities could not be aligned in the text \"Manisha Bharti Software Automation Engineer  Pune,...\" with entities \"[(2833, 4400, 'Skills'), (2819, 2823, 'Graduation ...\". Use `spacy.training.offsets_to_biluo_tags(nlp.make_doc(text), entities)` to check the alignment. Misaligned entities ('-') will be ignored during training.\n",
      "  entities=ent_str[:50] + \"...\" if len(ent_str) > 50 else ent_str,\n",
      "C:\\Users\\samsu\\anaconda3\\lib\\site-packages\\spacy\\training\\iob_utils.py:142: UserWarning: [W030] Some entities could not be aligned in the text \"Sarfaraz Ahmad Associate network engineer - TATA C...\" with entities \"[(4690, 5815, 'Skills'), (4558, 4577, 'College Nam...\". Use `spacy.training.offsets_to_biluo_tags(nlp.make_doc(text), entities)` to check the alignment. Misaligned entities ('-') will be ignored during training.\n",
      "  entities=ent_str[:50] + \"...\" if len(ent_str) > 50 else ent_str,\n",
      "C:\\Users\\samsu\\anaconda3\\lib\\site-packages\\spacy\\training\\iob_utils.py:142: UserWarning: [W030] Some entities could not be aligned in the text \"Siddharth Choudhary Microsoft Office Suite - Exper...\" with entities \"[(785, 956, 'Skills'), (643, 674, 'Designation'), ...\". Use `spacy.training.offsets_to_biluo_tags(nlp.make_doc(text), entities)` to check the alignment. Misaligned entities ('-') will be ignored during training.\n",
      "  entities=ent_str[:50] + \"...\" if len(ent_str) > 50 else ent_str,\n",
      "C:\\Users\\samsu\\anaconda3\\lib\\site-packages\\spacy\\training\\iob_utils.py:142: UserWarning: [W030] Some entities could not be aligned in the text \"Sharan Adla - Email me on Indeed: indeed.com/r/Sha...\" with entities \"[(2421, 2450, 'College Name'), (2416, 2419, 'Degre...\". Use `spacy.training.offsets_to_biluo_tags(nlp.make_doc(text), entities)` to check the alignment. Misaligned entities ('-') will be ignored during training.\n",
      "  entities=ent_str[:50] + \"...\" if len(ent_str) > 50 else ent_str,\n",
      "C:\\Users\\samsu\\anaconda3\\lib\\site-packages\\spacy\\training\\iob_utils.py:142: UserWarning: [W030] Some entities could not be aligned in the text \"Vinay Singhal New Delhi, Delhi - Email me on Indee...\" with entities \"[(937, 980, 'Email Address'), (580, 923, 'Skills')...\". Use `spacy.training.offsets_to_biluo_tags(nlp.make_doc(text), entities)` to check the alignment. Misaligned entities ('-') will be ignored during training.\n",
      "  entities=ent_str[:50] + \"...\" if len(ent_str) > 50 else ent_str,\n",
      "C:\\Users\\samsu\\anaconda3\\lib\\site-packages\\spacy\\training\\iob_utils.py:142: UserWarning: [W030] Some entities could not be aligned in the text \"Hartej Kathuria Data Analyst Intern - Oracle Retai...\" with entities \"[(2246, 2573, 'Skills'), (1435, 1480, 'Email Addre...\". Use `spacy.training.offsets_to_biluo_tags(nlp.make_doc(text), entities)` to check the alignment. Misaligned entities ('-') will be ignored during training.\n",
      "  entities=ent_str[:50] + \"...\" if len(ent_str) > 50 else ent_str,\n",
      "C:\\Users\\samsu\\anaconda3\\lib\\site-packages\\spacy\\training\\iob_utils.py:142: UserWarning: [W030] Some entities could not be aligned in the text \"Jacob Philip Kottayam, Kerala - Email me on Indeed...\" with entities \"[(2165, 2215, 'Skills'), (2145, 2155, 'Degree'), (...\". Use `spacy.training.offsets_to_biluo_tags(nlp.make_doc(text), entities)` to check the alignment. Misaligned entities ('-') will be ignored during training.\n",
      "  entities=ent_str[:50] + \"...\" if len(ent_str) > 50 else ent_str,\n",
      "C:\\Users\\samsu\\anaconda3\\lib\\site-packages\\spacy\\training\\iob_utils.py:142: UserWarning: [W030] Some entities could not be aligned in the text \"Karthik G V Program Manager, Product Manager, Prod...\" with entities \"[(1750, 1759, 'Companies worked at'), (1467, 1476,...\". Use `spacy.training.offsets_to_biluo_tags(nlp.make_doc(text), entities)` to check the alignment. Misaligned entities ('-') will be ignored during training.\n",
      "  entities=ent_str[:50] + \"...\" if len(ent_str) > 50 else ent_str,\n",
      "C:\\Users\\samsu\\anaconda3\\lib\\site-packages\\spacy\\training\\iob_utils.py:142: UserWarning: [W030] Some entities could not be aligned in the text \"Rishabh soni Anuppur, Madhya Pradesh - Email me on...\" with entities \"[(242, 256, 'Skills'), (223, 233, 'College Name'),...\". Use `spacy.training.offsets_to_biluo_tags(nlp.make_doc(text), entities)` to check the alignment. Misaligned entities ('-') will be ignored during training.\n",
      "  entities=ent_str[:50] + \"...\" if len(ent_str) > 50 else ent_str,\n",
      "C:\\Users\\samsu\\anaconda3\\lib\\site-packages\\spacy\\training\\iob_utils.py:142: UserWarning: [W030] Some entities could not be aligned in the text \"Madhuri Sripathi Banglore, Karnataka, Karnataka - ...\" with entities \"[(4563, 4747, 'Skills'), (4538, 4552, 'College Nam...\". Use `spacy.training.offsets_to_biluo_tags(nlp.make_doc(text), entities)` to check the alignment. Misaligned entities ('-') will be ignored during training.\n",
      "  entities=ent_str[:50] + \"...\" if len(ent_str) > 50 else ent_str,\n",
      "C:\\Users\\samsu\\anaconda3\\lib\\site-packages\\spacy\\training\\iob_utils.py:142: UserWarning: [W030] Some entities could not be aligned in the text \"Keshav Dhawale 3 TCS Security guard Access Control...\" with entities \"[(971, 1015, 'Email Address'), (877, 895, 'College...\". Use `spacy.training.offsets_to_biluo_tags(nlp.make_doc(text), entities)` to check the alignment. Misaligned entities ('-') will be ignored during training.\n",
      "  entities=ent_str[:50] + \"...\" if len(ent_str) > 50 else ent_str,\n"
     ]
    },
    {
     "name": "stderr",
     "output_type": "stream",
     "text": [
      "C:\\Users\\samsu\\anaconda3\\lib\\site-packages\\spacy\\training\\iob_utils.py:142: UserWarning: [W030] Some entities could not be aligned in the text \"Pankaj Bhosale Microsoft SQL-SERVER  Dhule, Mahara...\" with entities \"[(1482, 1487, 'Location'), (1369, 1413, 'Email Add...\". Use `spacy.training.offsets_to_biluo_tags(nlp.make_doc(text), entities)` to check the alignment. Misaligned entities ('-') will be ignored during training.\n",
      "  entities=ent_str[:50] + \"...\" if len(ent_str) > 50 else ent_str,\n",
      "C:\\Users\\samsu\\anaconda3\\lib\\site-packages\\spacy\\training\\iob_utils.py:142: UserWarning: [W030] Some entities could not be aligned in the text \"Chhaya Prabhale Kharadi, Pune, 411014, IN - Email ...\" with entities \"[(1943, 2050, 'Skills'), (478, 488, 'Designation')...\". Use `spacy.training.offsets_to_biluo_tags(nlp.make_doc(text), entities)` to check the alignment. Misaligned entities ('-') will be ignored during training.\n",
      "  entities=ent_str[:50] + \"...\" if len(ent_str) > 50 else ent_str,\n",
      "C:\\Users\\samsu\\anaconda3\\lib\\site-packages\\spacy\\training\\iob_utils.py:142: UserWarning: [W030] Some entities could not be aligned in the text \"Sameer Kujur Orrisha - Email me on Indeed: indeed....\" with entities \"[(265, 307, 'Email Address'), (210, 251, 'Skills')...\". Use `spacy.training.offsets_to_biluo_tags(nlp.make_doc(text), entities)` to check the alignment. Misaligned entities ('-') will be ignored during training.\n",
      "  entities=ent_str[:50] + \"...\" if len(ent_str) > 50 else ent_str,\n",
      "C:\\Users\\samsu\\anaconda3\\lib\\site-packages\\spacy\\training\\iob_utils.py:142: UserWarning: [W030] Some entities could not be aligned in the text \"Kandrapu Reddy Senior Travel Operations (Domestic,...\" with entities \"[(4232, 4330, 'Skills'), (4058, 4101, 'Degree'), (...\". Use `spacy.training.offsets_to_biluo_tags(nlp.make_doc(text), entities)` to check the alignment. Misaligned entities ('-') will be ignored during training.\n",
      "  entities=ent_str[:50] + \"...\" if len(ent_str) > 50 else ent_str,\n",
      "C:\\Users\\samsu\\anaconda3\\lib\\site-packages\\spacy\\training\\iob_utils.py:142: UserWarning: [W030] Some entities could not be aligned in the text \"Syed Sadath ali Coimbatore - Email me on Indeed: i...\" with entities \"[(221, 246, 'Skills'), (206, 211, 'College Name'),...\". Use `spacy.training.offsets_to_biluo_tags(nlp.make_doc(text), entities)` to check the alignment. Misaligned entities ('-') will be ignored during training.\n",
      "  entities=ent_str[:50] + \"...\" if len(ent_str) > 50 else ent_str,\n",
      "C:\\Users\\samsu\\anaconda3\\lib\\site-packages\\spacy\\training\\iob_utils.py:142: UserWarning: [W030] Some entities could not be aligned in the text \"Mohammed Murtuza Major Incident Manager / Escalati...\" with entities \"[(7924, 8040, 'Skills'), (7872, 7891, 'College Nam...\". Use `spacy.training.offsets_to_biluo_tags(nlp.make_doc(text), entities)` to check the alignment. Misaligned entities ('-') will be ignored during training.\n",
      "  entities=ent_str[:50] + \"...\" if len(ent_str) > 50 else ent_str,\n",
      "C:\\Users\\samsu\\anaconda3\\lib\\site-packages\\spacy\\training\\iob_utils.py:142: UserWarning: [W030] Some entities could not be aligned in the text \"Partho Sarathi Mitra Kolkata, West Bengal - Email ...\" with entities \"[(230, 262, 'College Name'), (223, 229, 'Degree'),...\". Use `spacy.training.offsets_to_biluo_tags(nlp.make_doc(text), entities)` to check the alignment. Misaligned entities ('-') will be ignored during training.\n",
      "  entities=ent_str[:50] + \"...\" if len(ent_str) > 50 else ent_str,\n",
      "C:\\Users\\samsu\\anaconda3\\lib\\site-packages\\spacy\\training\\iob_utils.py:142: UserWarning: [W030] Some entities could not be aligned in the text \"Krishna Prasad Patna City, Bihar - Email me on Ind...\" with entities \"[(288, 293, 'Location'), (267, 285, 'College Name'...\". Use `spacy.training.offsets_to_biluo_tags(nlp.make_doc(text), entities)` to check the alignment. Misaligned entities ('-') will be ignored during training.\n",
      "  entities=ent_str[:50] + \"...\" if len(ent_str) > 50 else ent_str,\n",
      "C:\\Users\\samsu\\anaconda3\\lib\\site-packages\\spacy\\training\\iob_utils.py:142: UserWarning: [W030] Some entities could not be aligned in the text \"Ashish Indoriya Sr. Systems Engineer at Infosys Li...\" with entities \"[(3828, 3931, 'Skills'), (3753, 3794, 'College Nam...\". Use `spacy.training.offsets_to_biluo_tags(nlp.make_doc(text), entities)` to check the alignment. Misaligned entities ('-') will be ignored during training.\n",
      "  entities=ent_str[:50] + \"...\" if len(ent_str) > 50 else ent_str,\n",
      "C:\\Users\\samsu\\anaconda3\\lib\\site-packages\\spacy\\training\\iob_utils.py:142: UserWarning: [W030] Some entities could not be aligned in the text \"Navas Koya Test Engineer  Mangalore, Karnataka - E...\" with entities \"[(2110, 2404, 'Skills'), (2055, 2064, 'Location'),...\". Use `spacy.training.offsets_to_biluo_tags(nlp.make_doc(text), entities)` to check the alignment. Misaligned entities ('-') will be ignored during training.\n",
      "  entities=ent_str[:50] + \"...\" if len(ent_str) > 50 else ent_str,\n",
      "C:\\Users\\samsu\\anaconda3\\lib\\site-packages\\spacy\\training\\iob_utils.py:142: UserWarning: [W030] Some entities could not be aligned in the text \"Jitendra Babu FI/CO Consultant in Tech Mahindra - ...\" with entities \"[(5510, 5514, 'Graduation Year'), (5481, 5508, 'Co...\". Use `spacy.training.offsets_to_biluo_tags(nlp.make_doc(text), entities)` to check the alignment. Misaligned entities ('-') will be ignored during training.\n",
      "  entities=ent_str[:50] + \"...\" if len(ent_str) > 50 else ent_str,\n",
      "C:\\Users\\samsu\\anaconda3\\lib\\site-packages\\spacy\\training\\iob_utils.py:142: UserWarning: [W030] Some entities could not be aligned in the text \"Anand S Bangalore, Karnataka - Email me on Indeed:...\" with entities \"[(211, 441, 'Skills'), (182, 193, 'College Name'),...\". Use `spacy.training.offsets_to_biluo_tags(nlp.make_doc(text), entities)` to check the alignment. Misaligned entities ('-') will be ignored during training.\n",
      "  entities=ent_str[:50] + \"...\" if len(ent_str) > 50 else ent_str,\n",
      "C:\\Users\\samsu\\anaconda3\\lib\\site-packages\\spacy\\training\\iob_utils.py:142: UserWarning: [W030] Some entities could not be aligned in the text \"Puneeth R Escalation Specialist - HiPower Support ...\" with entities \"[(2182, 2210, 'College Name'), (2177, 2180, 'Degre...\". Use `spacy.training.offsets_to_biluo_tags(nlp.make_doc(text), entities)` to check the alignment. Misaligned entities ('-') will be ignored during training.\n",
      "  entities=ent_str[:50] + \"...\" if len(ent_str) > 50 else ent_str,\n",
      "C:\\Users\\samsu\\anaconda3\\lib\\site-packages\\spacy\\training\\iob_utils.py:142: UserWarning: [W030] Some entities could not be aligned in the text \"Dushyant Bhatt BI / Big Data/ Azure  Hyderabad-Dec...\" with entities \"[(5893, 6043, 'Skills'), (5838, 5859, 'College Nam...\". Use `spacy.training.offsets_to_biluo_tags(nlp.make_doc(text), entities)` to check the alignment. Misaligned entities ('-') will be ignored during training.\n",
      "  entities=ent_str[:50] + \"...\" if len(ent_str) > 50 else ent_str,\n",
      "C:\\Users\\samsu\\anaconda3\\lib\\site-packages\\spacy\\training\\iob_utils.py:142: UserWarning: [W030] Some entities could not be aligned in the text \"Srushti Bhadale Mumbai, Maharashtra - Email me on ...\" with entities \"[(1551, 1852, 'Skills'), (1454, 1499, 'Email Addre...\". Use `spacy.training.offsets_to_biluo_tags(nlp.make_doc(text), entities)` to check the alignment. Misaligned entities ('-') will be ignored during training.\n",
      "  entities=ent_str[:50] + \"...\" if len(ent_str) > 50 else ent_str,\n",
      "C:\\Users\\samsu\\anaconda3\\lib\\site-packages\\spacy\\training\\iob_utils.py:142: UserWarning: [W030] Some entities could not be aligned in the text \"Santosh Ganta Senior Systems Engineer - mainframe ...\" with entities \"[(957, 1203, 'Skills'), (662, 775, 'Skills'), (648...\". Use `spacy.training.offsets_to_biluo_tags(nlp.make_doc(text), entities)` to check the alignment. Misaligned entities ('-') will be ignored during training.\n",
      "  entities=ent_str[:50] + \"...\" if len(ent_str) > 50 else ent_str,\n",
      "C:\\Users\\samsu\\anaconda3\\lib\\site-packages\\spacy\\training\\iob_utils.py:142: UserWarning: [W030] Some entities could not be aligned in the text \"Yogesh Ghatole Engineer / Electrical Supervisor, S...\" with entities \"[(2912, 3288, 'Skills'), (2721, 2726, 'UNKNOWN'), ...\". Use `spacy.training.offsets_to_biluo_tags(nlp.make_doc(text), entities)` to check the alignment. Misaligned entities ('-') will be ignored during training.\n",
      "  entities=ent_str[:50] + \"...\" if len(ent_str) > 50 else ent_str,\n"
     ]
    },
    {
     "name": "stderr",
     "output_type": "stream",
     "text": [
      "C:\\Users\\samsu\\anaconda3\\lib\\site-packages\\spacy\\training\\iob_utils.py:142: UserWarning: [W030] Some entities could not be aligned in the text \"Ahmad Bardolia Project Lead for Infosys OpenStack ...\" with entities \"[(3827, 4016, 'Skills'), (3809, 3817, 'Degree'), (...\". Use `spacy.training.offsets_to_biluo_tags(nlp.make_doc(text), entities)` to check the alignment. Misaligned entities ('-') will be ignored during training.\n",
      "  entities=ent_str[:50] + \"...\" if len(ent_str) > 50 else ent_str,\n",
      "C:\\Users\\samsu\\anaconda3\\lib\\site-packages\\spacy\\training\\iob_utils.py:142: UserWarning: [W030] Some entities could not be aligned in the text \"Tanmoy Maity Kolkata, West Bengal - Email me on In...\" with entities \"[(319, 338, 'Skills'), (289, 296, 'Location'), (28...\". Use `spacy.training.offsets_to_biluo_tags(nlp.make_doc(text), entities)` to check the alignment. Misaligned entities ('-') will be ignored during training.\n",
      "  entities=ent_str[:50] + \"...\" if len(ent_str) > 50 else ent_str,\n",
      "C:\\Users\\samsu\\anaconda3\\lib\\site-packages\\spacy\\training\\iob_utils.py:142: UserWarning: [W030] Some entities could not be aligned in the text \"Arpit Jain Quality Analyst - ThoughtWorks Technolo...\" with entities \"[(2301, 2380, 'Skills'), (2088, 2131, 'College Nam...\". Use `spacy.training.offsets_to_biluo_tags(nlp.make_doc(text), entities)` to check the alignment. Misaligned entities ('-') will be ignored during training.\n",
      "  entities=ent_str[:50] + \"...\" if len(ent_str) > 50 else ent_str,\n",
      "C:\\Users\\samsu\\anaconda3\\lib\\site-packages\\spacy\\training\\iob_utils.py:142: UserWarning: [W030] Some entities could not be aligned in the text \"Viny Khandelwal Self-employed in Family Business -...\" with entities \"[(3375, 3390, 'Name'), (2952, 3086, 'Skills'), (28...\". Use `spacy.training.offsets_to_biluo_tags(nlp.make_doc(text), entities)` to check the alignment. Misaligned entities ('-') will be ignored during training.\n",
      "  entities=ent_str[:50] + \"...\" if len(ent_str) > 50 else ent_str,\n",
      "C:\\Users\\samsu\\anaconda3\\lib\\site-packages\\spacy\\training\\iob_utils.py:142: UserWarning: [W030] Some entities could not be aligned in the text \"Shraddha Achar Mathura, Uttar Pradesh - Email me o...\" with entities \"[(975, 1020, 'Skills'), (814, 843, 'College Name')...\". Use `spacy.training.offsets_to_biluo_tags(nlp.make_doc(text), entities)` to check the alignment. Misaligned entities ('-') will be ignored during training.\n",
      "  entities=ent_str[:50] + \"...\" if len(ent_str) > 50 else ent_str,\n",
      "C:\\Users\\samsu\\anaconda3\\lib\\site-packages\\spacy\\training\\iob_utils.py:142: UserWarning: [W030] Some entities could not be aligned in the text \"Ajay Elango Software Engineer  Bangalore City, Kar...\" with entities \"[(6930, 7494, 'Skills'), (6845, 6875, 'College Nam...\". Use `spacy.training.offsets_to_biluo_tags(nlp.make_doc(text), entities)` to check the alignment. Misaligned entities ('-') will be ignored during training.\n",
      "  entities=ent_str[:50] + \"...\" if len(ent_str) > 50 else ent_str,\n",
      "C:\\Users\\samsu\\anaconda3\\lib\\site-packages\\spacy\\training\\iob_utils.py:142: UserWarning: [W030] Some entities could not be aligned in the text \"Shivam Sharma L1 Analyst in Microsoft project - HC...\" with entities \"[(1380, 1525, 'Skills'), (1287, 1296, 'Location'),...\". Use `spacy.training.offsets_to_biluo_tags(nlp.make_doc(text), entities)` to check the alignment. Misaligned entities ('-') will be ignored during training.\n",
      "  entities=ent_str[:50] + \"...\" if len(ent_str) > 50 else ent_str,\n",
      "C:\\Users\\samsu\\anaconda3\\lib\\site-packages\\spacy\\training\\iob_utils.py:142: UserWarning: [W030] Some entities could not be aligned in the text \"Anil Kumar Microsoft Azure (Basic Management)  Del...\" with entities \"[(8004, 8009, 'Location'), (7716, 7721, 'Location'...\". Use `spacy.training.offsets_to_biluo_tags(nlp.make_doc(text), entities)` to check the alignment. Misaligned entities ('-') will be ignored during training.\n",
      "  entities=ent_str[:50] + \"...\" if len(ent_str) > 50 else ent_str,\n",
      "C:\\Users\\samsu\\anaconda3\\lib\\site-packages\\spacy\\training\\iob_utils.py:142: UserWarning: [W030] Some entities could not be aligned in the text \"Sameer Kujur Orrisha - Email me on Indeed: indeed....\" with entities \"[(210, 251, 'Skills'), (189, 200, 'College Name'),...\". Use `spacy.training.offsets_to_biluo_tags(nlp.make_doc(text), entities)` to check the alignment. Misaligned entities ('-') will be ignored during training.\n",
      "  entities=ent_str[:50] + \"...\" if len(ent_str) > 50 else ent_str,\n",
      "C:\\Users\\samsu\\anaconda3\\lib\\site-packages\\spacy\\training\\iob_utils.py:142: UserWarning: [W030] Some entities could not be aligned in the text \"Krishna Prasad Patna, Bihar - Email me on Indeed: ...\" with entities \"[(283, 327, 'Email Address'), (257, 262, 'Location...\". Use `spacy.training.offsets_to_biluo_tags(nlp.make_doc(text), entities)` to check the alignment. Misaligned entities ('-') will be ignored during training.\n",
      "  entities=ent_str[:50] + \"...\" if len(ent_str) > 50 else ent_str,\n",
      "C:\\Users\\samsu\\anaconda3\\lib\\site-packages\\spacy\\training\\iob_utils.py:142: UserWarning: [W030] Some entities could not be aligned in the text \"Vamsi krishna hyderbad, Telangana - Email me on In...\" with entities \"[(271, 290, 'Skills'), (231, 261, 'College Name'),...\". Use `spacy.training.offsets_to_biluo_tags(nlp.make_doc(text), entities)` to check the alignment. Misaligned entities ('-') will be ignored during training.\n",
      "  entities=ent_str[:50] + \"...\" if len(ent_str) > 50 else ent_str,\n"
     ]
    },
    {
     "name": "stdout",
     "output_type": "stream",
     "text": [
      "{'ner': 9220.491819712255}\n",
      "Starting iteration 1\n",
      "{'ner': 3675.250277972557}\n",
      "Starting iteration 2\n",
      "{'ner': 2586.3827497420475}\n",
      "Starting iteration 3\n",
      "{'ner': 2176.9786255821004}\n",
      "Starting iteration 4\n",
      "{'ner': 1937.9932554606908}\n",
      "Starting iteration 5\n",
      "{'ner': 1757.3760554297994}\n",
      "Starting iteration 6\n",
      "{'ner': 1618.1823899616688}\n",
      "Starting iteration 7\n",
      "{'ner': 1754.0876539981118}\n",
      "Starting iteration 8\n",
      "{'ner': 1282.8183580055459}\n",
      "Starting iteration 9\n",
      "{'ner': 1090.2802209305523}\n",
      "Starting iteration 10\n",
      "{'ner': 1062.328597647005}\n",
      "Starting iteration 11\n",
      "{'ner': 1087.778841115216}\n",
      "Starting iteration 12\n",
      "{'ner': 949.4950615934536}\n",
      "Starting iteration 13\n",
      "{'ner': 924.6013189168376}\n",
      "Starting iteration 14\n",
      "{'ner': 873.3650197255218}\n",
      "Starting iteration 15\n",
      "{'ner': 786.7976958487573}\n",
      "Starting iteration 16\n",
      "{'ner': 716.5061100385876}\n",
      "Starting iteration 17\n",
      "{'ner': 710.4677593059836}\n",
      "Starting iteration 18\n",
      "{'ner': 875.9869838834567}\n",
      "Starting iteration 19\n",
      "{'ner': 714.2495947761639}\n",
      "Starting iteration 20\n",
      "{'ner': 660.262017361667}\n",
      "Starting iteration 21\n",
      "{'ner': 640.3662278326718}\n",
      "Starting iteration 22\n",
      "{'ner': 606.4605288092849}\n",
      "Starting iteration 23\n",
      "{'ner': 615.3132854326544}\n",
      "Starting iteration 24\n",
      "{'ner': 559.8150954920386}\n"
     ]
    }
   ],
   "source": [
    "train_model(train_data)"
   ]
  },
  {
   "cell_type": "markdown",
   "metadata": {},
   "source": [
    "### Save the model and Load as needed"
   ]
  },
  {
   "cell_type": "code",
   "execution_count": 4,
   "metadata": {},
   "outputs": [],
   "source": [
    "# nlp.to_disk('nlp_model')\n",
    "# nlp = spacy.load('nlp_model')"
   ]
  },
  {
   "cell_type": "markdown",
   "metadata": {},
   "source": [
    "### Testing on training data"
   ]
  },
  {
   "cell_type": "code",
   "execution_count": 6,
   "metadata": {
    "scrolled": true
   },
   "outputs": [
    {
     "data": {
      "text/plain": [
       "\"Harini Komaravelli Test Analyst at Oracle, Hyderabad  Hyderabad, Telangana - Email me on Indeed: indeed.com/r/Harini- Komaravelli/2659eee82e435d1b  ➢ 6 Yrs. of IT Experience in Manual and Automation testing.  WORK EXPERIENCE  QA Analyst  Oracle  Test Analyst at Oracle, Hyderabad  Infosys Ltd -  Hyderabad, Telangana -  November 2011 to February 2016  Hyderabad from Nov 2011 to Feb17 2016 ➢ Worked in Tata Consultancy Services, Hyderabad from Feb 24 to Apr 11 2017 ➢ Currently working as a Test Analyst at Oracle, Hyderabad  QA Analyst with 6 years of IT experience  Oracle  EDUCATION  MCA  Osmania University  B.Sc. in Computer Science  Osmania University  SKILLS  Functional Testing, Blue Prism, Qtp  ADDITIONAL INFORMATION  Area of Expertise:  ➢ Familiar with Agile Methodologies. ➢ Having knowledge in Energy (Petroleum) & Health Care domains. ➢ Involved in preparation of Test Scenarios. ➢ Preparing Test Data for the test cases.  https://www.indeed.com/r/Harini-Komaravelli/2659eee82e435d1b?isid=rex-download&ikw=download-top&co=IN https://www.indeed.com/r/Harini-Komaravelli/2659eee82e435d1b?isid=rex-download&ikw=download-top&co=IN   ➢ Experienced in development and execution of Test cases effectively. ➢ Experienced in Functional testing, GUI testing, Smoke testing, Regression testing and Integration Testing ➢ Experienced in doing Accessibility testing of an application ➢ Ability to understand user Requirements, Functional and Design specifications. ➢ Good knowledge of SDLC and STLC processes. ➢ Deciding the Severity and Priority of bugs. ➢ Experience in using Microsoft Test Manager & Oracle Test Manager as Test Management Tools. ➢ Having good experience in testing windows based & web based applications. ➢ Involved in Client Interactions for reviews, issues and for any clarifications. ➢ Web Services Testing ➢ Writing Test Scripts in QTP, Testcomplete. ➢ Creating Object Repositories and Function Libraries in QTP. ➢ Enhanced QTP scripts using VB Script. ➢ Strong experience in working with Blue Prism tool ➢ Worked on different Environments like Windows Application & Web Application  Technical Skills:  ❑ Test Automation Tools: Blue Prism, QTP 10.0, Testcomplete ❑ Test Management Tool: Microsoft Test Manager, Oracle Test Manager & JIRA ❑ Databases: Oracle 10g, SQL Server.  ❑ Operating Systems: Windows 7  Project 1: Title: Cadence Client: Baker Hughes  Technologies: Microsoft Visual Studio and Microsoft Team Foundation Server  Client Background: An oilfield services company delivering focused efforts on shale gas and other oilfield services. It provides services, tools and software for drilling and formation evaluation, well completion, production management, seismic data collection and interpretation.  Project Description: AUT (Application under test) is the next generation revolutionary, robust, easy to use scalable well site data acquisition processing and interpretation system for Client's Drilling Services to deliver services that meets cross divisional business requirements consistently.  Project 2:  Description: Paragon supports your entire care team with one tool that your clinicians need to help deliver the best patient care. Designed by physicians, nurses, pharmacists and mid level providers that have a first-hand understanding of clinical workflow needs, Paragon clinical applications allow your caregivers to focus on what matters most; spending time caring for patients. Since Paragon is fully-integrated across all applications and built around a single patient database, information    entered anywhere in the system is immediately available to the entire care team. Immediate access not only helps clinicians make better treatment decisions - it also helps promote patient safety. Paragon offers a broad suite of multidisciplinary clinical software solutions together with anytime, anywhere access to the complete patient record.  Responsibilities:  • Performed Smoke testing and Regression testing. • Involved in Generating and Executing Test Script using Quick Test Pro & Blue Prism • Usability and User Interface Testing. • Involved in Defect tracking and reporting the bugs using TFS • Participated in frequent walk-through meetings with Internal Quality Assurance groups and with development groups. • Participated in client calls and clarifying the doubts by having AT&T sessions • Involved in functional, regression and smoke testing to validate the application data changes done in windows application • Certifying the build status by running the scripts as part of smoke testing  Project 3:  Description: Food & Beverages R&A: Easily manage business across multiple locations while reducing IT cost and complexity. Cloud-based point-of-sale (POS) solutions enable centralized enterprise management with lower upfront costs and a smaller footprint.  Responsibilities:  • Performed Functional testing and Regression testing. • Involved in Generating and Executing Test Scripts using Blue Prism tool and Open script • Involved in preparing bots using Blue Prism tool. • Accessibility testing of the web application • Involved in Defect tracking and reporting the bugs using JIRA • WebServices testing by calling API's to export the data\""
      ]
     },
     "execution_count": 6,
     "metadata": {},
     "output_type": "execute_result"
    }
   ],
   "source": [
    "train_data[1][0]"
   ]
  },
  {
   "cell_type": "code",
   "execution_count": 7,
   "metadata": {},
   "outputs": [
    {
     "name": "stdout",
     "output_type": "stream",
     "text": [
      "NAME                          - Harini Komaravelli\n",
      "DESIGNATION                   - Test Analyst\n",
      "COMPANIES WORKED AT           - Oracle\n",
      "LOCATION                      - Hyderabad\n",
      "LOCATION                      - Hyderabad\n",
      "DESIGNATION                   - QA Analyst\n",
      "COMPANIES WORKED AT           - Oracle\n",
      "DESIGNATION                   - Test Analyst\n",
      "COMPANIES WORKED AT           - Oracle\n",
      "LOCATION                      - Hyderabad\n",
      "COMPANIES WORKED AT           - Infosys Ltd\n",
      "LOCATION                      - Hyderabad\n",
      "LOCATION                      - Hyderabad\n",
      "COMPANIES WORKED AT           - Oracle\n",
      "LOCATION                      - Hyderabad\n",
      "DESIGNATION                   - QA Analyst\n",
      "DEGREE                        - 6 years of IT experience\n",
      "COMPANIES WORKED AT           - Oracle\n",
      "DEGREE                        - MCA\n",
      "COLLEGE NAME                  - Osmania University\n",
      "DEGREE                        - B.Sc. in Computer Science\n",
      "COLLEGE NAME                  - Osmania University\n",
      "SKILLS                        - Functional Testing, Blue Prism, Qtp  ADDITIONAL INFORMATION  Area of Expertise:\n"
     ]
    }
   ],
   "source": [
    "doc = nlp(train_data[1][0])\n",
    "for ent in doc.ents:\n",
    "    print(f'{ent.label_.upper():{30}}- {ent.text}')"
   ]
  },
  {
   "cell_type": "markdown",
   "metadata": {},
   "source": [
    "### Testing on new data"
   ]
  },
  {
   "cell_type": "code",
   "execution_count": 8,
   "metadata": {
    "scrolled": true
   },
   "outputs": [
    {
     "name": "stdout",
     "output_type": "stream",
     "text": [
      "Alice Clark  AI  Machine Learning    Delhi India Email me on Indeed    20+ years of experience in data handling design and development    Data Warehouse Data analysis starsnow flake scema data modelling and design specific to  data warehousing and business intelligence    Database Experience in database designing scalability backup and recovery writing and  optimizing SQL code and Stored Procedures creating functions views triggers and indexes  Cloud platform Worked on Microsoft Azure cloud services like Document DB SQL Azure  Stream Analytics Event hub Power BI Web Job Web App Power BI Azure data lake  analyticsUSQL  Willing to relocate anywhere    WORK EXPERIENCE  Software Engineer  Microsoft – Bangalore Karnataka  January 2000 to Present  1 Microsoft Rewards Live dashboards  Description  Microsoft rewards is loyalty program that rewards Users for browsing and shopping  online Microsoft Rewards members can earn points when searching with Bing browsing with  Microsoft Edge and making purchases at the Xbox Store the Windows Store and the Microsoft  Store Plus user can pick up bonus points for taking daily quizzes and tours on the Microsoft  rewards website Rewards live dashboards gives a live picture of usage worldwide and by  markets like US Canada Australia new user registration count topbottom performing rewards  offers orders stats and weekly trends of user activities orders and new user registrations the  PBI tiles gets refreshed in different frequencies starting from 5 seconds to 30 minutes  TechnologyTools used    EDUCATION  Indian Institute of Technology – Mumbai  2001    SKILLS  Machine Learning Natural Language Processing and Big Data Handling    ADDITIONAL INFORMATION  Professional Skills   Excellent analytical problem solving communication knowledge transfer and interpersonal  skills with ability to interact with individuals at all the levels   Quick learner and maintains cordial relationship with project manager and team members and  good performer both in team and independent job environments   Positive attitude towards superiors amp peers   Supervised junior developers throughout project lifecycle and provided technical assistance  \n"
     ]
    }
   ],
   "source": [
    "import sys, fitz\n",
    "fname = 'Alice Clark CV.pdf'\n",
    "doc = fitz.open(fname)\n",
    "text = \"\"\n",
    "for page in doc:\n",
    "    text = text + str(page.getText())\n",
    "\n",
    "tx = \" \".join(text.split('\\n'))\n",
    "\n",
    "# initializing punctuations string \n",
    "punc = '''!()-[]{};:'\"\\,•<>./?@#$%^&*_~'''\n",
    "  \n",
    "# Removing punctuations in string\n",
    "for ele in tx: \n",
    "    if ele in punc: \n",
    "        tx = tx.replace(ele, \"\") \n",
    "\n",
    "print(tx)"
   ]
  },
  {
   "cell_type": "code",
   "execution_count": 9,
   "metadata": {},
   "outputs": [
    {
     "name": "stdout",
     "output_type": "stream",
     "text": [
      "NAME                          - Alice Clark\n",
      "DESIGNATION                   - Software Engineer\n",
      "COMPANIES WORKED AT           - Microsoft\n",
      "COMPANIES WORKED AT           - Microsoft\n",
      "COMPANIES WORKED AT           - Microsoft\n",
      "COMPANIES WORKED AT           - Microsoft\n",
      "COMPANIES WORKED AT           - Microsoft\n",
      "COMPANIES WORKED AT           - Microsoft\n",
      "COLLEGE NAME                  - Indian Institute of Technology\n",
      "GRADUATION YEAR               - 2001\n",
      "SKILLS                        - Machine Learning Natural Language Processing and Big Data Handling    ADDITIONAL INFORMATION  Professional Skills   Excellent analytical problem solving communication knowledge transfer and interpersonal  \n"
     ]
    }
   ],
   "source": [
    "doc = nlp(tx)\n",
    "for ent in doc.ents:\n",
    "    print(f'{ent.label_.upper():{30}}- {ent.text}')"
   ]
  },
  {
   "cell_type": "code",
   "execution_count": 10,
   "metadata": {},
   "outputs": [
    {
     "name": "stdout",
     "output_type": "stream",
     "text": [
      "Akhil Anto    Data Analyst Power BI Developer Data Scientist    CONTACT  aantogmuedu  763 2219960  Washington DC    linkedincominakhilanto  githubcomakhilanto  meakhilantocom     PROFILE    Power BI certified Data Analyst with 4 years  of experience who love to interact with data  to understand the business problem and  interpret them using various tools such as  Python Power BI SQL  ETL R and Azure  Cloud    EDUCATION    20172019  Fairfax VA    George Mason University     Master of  Data Analytics – 387 GPA  20102014  India    Calicut University     Bachelor of Electrical and Electronics   Engineering 35 GPA    MANAGEMENT SKILLS      Project and Team Management      Git Excel PowerPoint    TECHNICAL SKILLS    Python     R    SQL    Power BI     Azure Cloud    Dax Queries    ETL    SSIS SSASSSRS    Tableau    Weka     Hadoop  Hive    HTML    Balsamiq    Machine Learning    Natural Language Processing     Data Visualization    Web Scraping      EXPERIENCE  2018 January – 2019 May Fairfax VA    Research Assistant  George Mason University    Implemented web scraping routine for collecting data from the Google  scholar and the DBLP website Automated it using Proxy rotator     Using Dandelion API extracted entities from collected data and   implemented machine learning pipeline  to build a recommendation system   to predict emerging topics  using recurrent neural network     Calculated Return on Investment ROI for the Master’s Degree in Health  Informatics Used Python Selenium  Beautiful Soup scripts to extract  several thousands of records from LinkedIn who graduated from American  universities that offered a Master’s Degree in Health Informatics    2018 May – 2018 August  Atlanta GA                                                                                                                                                             Data Scientist Intern   United Parcel Service UPS    Built machine Learning Model Neural Network from  scratch to predict the  number of hours it will take to deliver shipments from source sorting  facilities to destination sorting facilities By implementing I was able to  increase the accuracy of perdition by  30      Developed a Power BI dashboard that allowed UPS IT managers and senior  management to understand and evaluate the efficiency of 200+ teams at  the UPS supply chain division     2015 August –2017 August  Dubai UAE    Data Analyst  Medan Sobha     Designed and developed a  DataMart  in Azure cloud containing Work  progress worker data inventory data and daily work log     Created a data pipeline connecting Azure cloud and Power BI    Visualized data for management reporting and later used by supervisors to  create weekly work priorities for each worker     Reduced manpower hours by 12  this was achieved by reducing material  and people dependencies with the help of data    Provided status reports to senior management or other management to  keep them apprised of progress and any anticipated issues    Manage the Risk Committee pursuit process for new projects    Liaise between Construction Managers and departments to coordinate and  expedite processes at all stages of construction    2014 June  – 2015 July  Kochi India  Business Analyst  Nettoraid              Implemented data solutions and reporting mechanism analyzing corporate  data warehouse    Implemented ETL SSIS and created SQL database to store data from uber  eats and swiggy for an online data analytics platform to analyze  food  ordering trends for a  chain of restaurants    Developed processed and distributed client reports per request utilizing  Microsoft Excel  and SSRS    Managed databases for multiple web apps for customer relationship  management  \n"
     ]
    }
   ],
   "source": [
    "import sys, fitz\n",
    "fname = 'AkhilAnto.pdf'\n",
    "doc = fitz.open(fname)\n",
    "text = \"\"\n",
    "for page in doc:\n",
    "    text = text + str(page.getText())\n",
    "\n",
    "tx = \" \".join(text.split('\\n'))\n",
    "\n",
    "# initializing punctuations string \n",
    "punc = '''!()-[]{};:|'\"\\,•<>./?@#$%^&*_~'''\n",
    "  \n",
    "# Removing punctuations in string\n",
    "for ele in tx: \n",
    "    if ele in punc: \n",
    "        tx = tx.replace(ele, \"\") \n",
    "\n",
    "print(tx)"
   ]
  },
  {
   "cell_type": "code",
   "execution_count": 11,
   "metadata": {},
   "outputs": [
    {
     "name": "stdout",
     "output_type": "stream",
     "text": [
      "NAME                          - Akhil Anto\n",
      "DESIGNATION                   - Data Analyst Power BI Developer Data Scientist\n",
      "SKILLS                        - Cloud    EDUCATION\n",
      "GRADUATION YEAR               - 20172019\n",
      "COLLEGE NAME                  - George Mason University\n",
      "COLLEGE NAME                  - Calicut University\n",
      "SKILLS                        - Project and Team Management      Git Excel PowerPoint    TECHNICAL SKILLS    \n",
      "SKILLS                        - Python     R\n",
      "SKILLS                        - SQL    Power BI     Azure Cloud\n",
      "LOCATION                      - January\n",
      "COLLEGE NAME                  - George Mason University\n",
      "DESIGNATION                   - Data Analyst\n",
      "COLLEGE NAME                  - Nettoraid              Implemented data solutions and reporting mechanism analyzing corporate\n"
     ]
    }
   ],
   "source": [
    "doc = nlp(tx)\n",
    "for ent in doc.ents:\n",
    "    print(f'{ent.label_.upper():{30}}- {ent.text}')"
   ]
  },
  {
   "cell_type": "code",
   "execution_count": null,
   "metadata": {},
   "outputs": [],
   "source": []
  }
 ],
 "metadata": {
  "kernelspec": {
   "display_name": "Python 3",
   "language": "python",
   "name": "python3"
  },
  "language_info": {
   "codemirror_mode": {
    "name": "ipython",
    "version": 3
   },
   "file_extension": ".py",
   "mimetype": "text/x-python",
   "name": "python",
   "nbconvert_exporter": "python",
   "pygments_lexer": "ipython3",
   "version": "3.7.6"
  }
 },
 "nbformat": 4,
 "nbformat_minor": 4
}
